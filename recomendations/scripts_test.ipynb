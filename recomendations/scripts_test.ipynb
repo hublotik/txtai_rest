{
 "cells": [
  {
   "cell_type": "markdown",
   "metadata": {},
   "source": [
    "## To calculate the power handling capability of headphones using sensitivity and impedance, you can use the following formula:\n",
    "\n",
    "Power (headphones) = (Voltage^2) / Impedance\n",
    "\n",
    "To use this formula, you need to know the voltage applied to the headphones and their impedance.\n",
    "\n",
    "1. Convert the sensitivity from dB to voltage:\n",
    "- Calculate the voltage corresponding to the sensitivity in dB using the formula:\n",
    "Voltage = 10^(sensitivity/20)\n",
    "\n",
    "2. Substitute the voltage and impedance values into the power formula:\n",
    "- Power (headphones) = (Voltage^2) / Impedance\n",
    "\n",
    "By using this formula, you can estimate the power handling capability of the headphones based on their sensitivity and impedance. However, please note that this calculation assumes a linear relationship between voltage, impedance, and power. In reality, headphone specifications may vary, and other factors such as distortion levels and frequency response can also affect their performance."
   ]
  },
  {
   "cell_type": "markdown",
   "metadata": {},
   "source": []
  },
  {
   "cell_type": "markdown",
   "metadata": {},
   "source": []
  },
  {
   "cell_type": "code",
   "execution_count": 1,
   "metadata": {},
   "outputs": [],
   "source": [
    "from txtai import Embeddings\n",
    "from pathlib import Path\n",
    "import pandas as pd\n",
    "\n",
    "df_amp = pd.read_csv(f\"/..{Path.cwd()}/parse/final_amp.csv\", encoding='utf-8')"
   ]
  },
  {
   "cell_type": "code",
   "execution_count": 2,
   "metadata": {},
   "outputs": [],
   "source": [
    "embeddings = Embeddings(path=\"sentence-transformers/nli-mpnet-base-v2\")"
   ]
  },
  {
   "cell_type": "code",
   "execution_count": null,
   "metadata": {},
   "outputs": [],
   "source": [
    "embeddings.load(f\"/..{Path.cwd()}/parse/amp_clnd\")"
   ]
  },
  {
   "cell_type": "code",
   "execution_count": 6,
   "metadata": {},
   "outputs": [
    {
     "data": {
      "text/html": [
       "<div>\n",
       "<style scoped>\n",
       "    .dataframe tbody tr th:only-of-type {\n",
       "        vertical-align: middle;\n",
       "    }\n",
       "\n",
       "    .dataframe tbody tr th {\n",
       "        vertical-align: top;\n",
       "    }\n",
       "\n",
       "    .dataframe thead th {\n",
       "        text-align: right;\n",
       "    }\n",
       "</style>\n",
       "<table border=\"1\" class=\"dataframe\">\n",
       "  <thead>\n",
       "    <tr style=\"text-align: right;\">\n",
       "      <th></th>\n",
       "      <th>uuid</th>\n",
       "      <th>Name</th>\n",
       "      <th>THD</th>\n",
       "      <th>SINAD</th>\n",
       "      <th>Power</th>\n",
       "      <th>Price</th>\n",
       "      <th>Source</th>\n",
       "      <th>review</th>\n",
       "    </tr>\n",
       "  </thead>\n",
       "  <tbody>\n",
       "    <tr>\n",
       "      <th>0</th>\n",
       "      <td>487bdeb2-053d-4e6c-8402-7c59e37785d2</td>\n",
       "      <td>McIntosh Laboratory MC462</td>\n",
       "      <td>0.00</td>\n",
       "      <td>106</td>\n",
       "      <td>720</td>\n",
       "      <td>9000</td>\n",
       "      <td>Stereophile</td>\n",
       "      <td>I performed a full set of measurements on the ...</td>\n",
       "    </tr>\n",
       "    <tr>\n",
       "      <th>1</th>\n",
       "      <td>64bb10e3-a88d-418c-9190-28713032170e</td>\n",
       "      <td>Primare A35.8</td>\n",
       "      <td>0.00</td>\n",
       "      <td>101</td>\n",
       "      <td>300</td>\n",
       "      <td>5500</td>\n",
       "      <td>Stereophile</td>\n",
       "      <td>I tested the Primare A35.8 with my Audio Preci...</td>\n",
       "    </tr>\n",
       "    <tr>\n",
       "      <th>2</th>\n",
       "      <td>a245f6d0-6af0-4571-a472-7b1efea8266e</td>\n",
       "      <td>NAD C 298</td>\n",
       "      <td>0.00</td>\n",
       "      <td>98</td>\n",
       "      <td>510</td>\n",
       "      <td>2000</td>\n",
       "      <td>Stereophile</td>\n",
       "      <td>The NAD C 298 can be operated as a conventiona...</td>\n",
       "    </tr>\n",
       "    <tr>\n",
       "      <th>3</th>\n",
       "      <td>fb80d337-8307-43d4-88cb-c5dac336c400</td>\n",
       "      <td>McIntosh Laboratory MC501</td>\n",
       "      <td>0.00</td>\n",
       "      <td>98</td>\n",
       "      <td>1000</td>\n",
       "      <td>8200</td>\n",
       "      <td>Stereophile</td>\n",
       "      <td>The McIntosh MC501 is unusual for a solid-stat...</td>\n",
       "    </tr>\n",
       "    <tr>\n",
       "      <th>4</th>\n",
       "      <td>2a96cf67-57a6-45c7-8f02-c629dff62df3</td>\n",
       "      <td>Halcro dm88 Reference</td>\n",
       "      <td>0.00</td>\n",
       "      <td>97</td>\n",
       "      <td>525</td>\n",
       "      <td>40000</td>\n",
       "      <td>Stereophile</td>\n",
       "      <td>I preconditioned one of the Halcro dm88 monobl...</td>\n",
       "    </tr>\n",
       "    <tr>\n",
       "      <th>...</th>\n",
       "      <td>...</td>\n",
       "      <td>...</td>\n",
       "      <td>...</td>\n",
       "      <td>...</td>\n",
       "      <td>...</td>\n",
       "      <td>...</td>\n",
       "      <td>...</td>\n",
       "      <td>...</td>\n",
       "    </tr>\n",
       "    <tr>\n",
       "      <th>325</th>\n",
       "      <td>121b949a-a9cc-4711-b8ac-637fc25b1dfd</td>\n",
       "      <td>Carver M-1.5t</td>\n",
       "      <td>0.19</td>\n",
       "      <td>54</td>\n",
       "      <td>236</td>\n",
       "      <td>800</td>\n",
       "      <td>ASR</td>\n",
       "      <td>Carver M-1.5t vintage stereo amplifier. It wa...</td>\n",
       "    </tr>\n",
       "    <tr>\n",
       "      <th>326</th>\n",
       "      <td>b1fb3ab8-1fdb-4a43-8272-6a19684ccb1f</td>\n",
       "      <td>SMSL SA100</td>\n",
       "      <td>0.20</td>\n",
       "      <td>54</td>\n",
       "      <td>22</td>\n",
       "      <td>74</td>\n",
       "      <td>ASR</td>\n",
       "      <td>SMSL SA100 Stereo Audio Amplifier with analog...</td>\n",
       "    </tr>\n",
       "    <tr>\n",
       "      <th>327</th>\n",
       "      <td>9a0b1fdf-a368-48eb-9760-ce3ee87f45f5</td>\n",
       "      <td>Carver Crimson 275</td>\n",
       "      <td>0.48</td>\n",
       "      <td>46</td>\n",
       "      <td>17</td>\n",
       "      <td>2750</td>\n",
       "      <td>ASR</td>\n",
       "      <td>Carver Crimson 275 tube stereo power amplifie...</td>\n",
       "    </tr>\n",
       "    <tr>\n",
       "      <th>328</th>\n",
       "      <td>caf863e0-373f-44fb-82d8-94af5f912406</td>\n",
       "      <td>Carver Raven 350</td>\n",
       "      <td>0.62</td>\n",
       "      <td>44</td>\n",
       "      <td>272</td>\n",
       "      <td>9500</td>\n",
       "      <td>ASR</td>\n",
       "      <td>Carver Raven 350 tube monoblock amplifier. It...</td>\n",
       "    </tr>\n",
       "    <tr>\n",
       "      <th>329</th>\n",
       "      <td>3daa8a74-0f89-467d-82f2-2d2b4689cee6</td>\n",
       "      <td>Pass ACA</td>\n",
       "      <td>2.57</td>\n",
       "      <td>32</td>\n",
       "      <td>1</td>\n",
       "      <td>320</td>\n",
       "      <td>ASR</td>\n",
       "      <td>Pass ACA Class A stereo power amplifier.  It ...</td>\n",
       "    </tr>\n",
       "  </tbody>\n",
       "</table>\n",
       "<p>330 rows × 8 columns</p>\n",
       "</div>"
      ],
      "text/plain": [
       "                                     uuid  ...                                             review\n",
       "0    487bdeb2-053d-4e6c-8402-7c59e37785d2  ...  I performed a full set of measurements on the ...\n",
       "1    64bb10e3-a88d-418c-9190-28713032170e  ...  I tested the Primare A35.8 with my Audio Preci...\n",
       "2    a245f6d0-6af0-4571-a472-7b1efea8266e  ...  The NAD C 298 can be operated as a conventiona...\n",
       "3    fb80d337-8307-43d4-88cb-c5dac336c400  ...  The McIntosh MC501 is unusual for a solid-stat...\n",
       "4    2a96cf67-57a6-45c7-8f02-c629dff62df3  ...  I preconditioned one of the Halcro dm88 monobl...\n",
       "..                                    ...  ...                                                ...\n",
       "325  121b949a-a9cc-4711-b8ac-637fc25b1dfd  ...   Carver M-1.5t vintage stereo amplifier. It wa...\n",
       "326  b1fb3ab8-1fdb-4a43-8272-6a19684ccb1f  ...   SMSL SA100 Stereo Audio Amplifier with analog...\n",
       "327  9a0b1fdf-a368-48eb-9760-ce3ee87f45f5  ...   Carver Crimson 275 tube stereo power amplifie...\n",
       "328  caf863e0-373f-44fb-82d8-94af5f912406  ...   Carver Raven 350 tube monoblock amplifier. It...\n",
       "329  3daa8a74-0f89-467d-82f2-2d2b4689cee6  ...   Pass ACA Class A stereo power amplifier.  It ...\n",
       "\n",
       "[330 rows x 8 columns]"
      ]
     },
     "execution_count": 6,
     "metadata": {},
     "output_type": "execute_result"
    }
   ],
   "source": [
    "df_amp"
   ]
  },
  {
   "cell_type": "code",
   "execution_count": 10,
   "metadata": {},
   "outputs": [],
   "source": [
    "embeddings.index(df_amp['uuid'].to_list(), df_amp['review'].to_list())"
   ]
  },
  {
   "cell_type": "code",
   "execution_count": 19,
   "metadata": {},
   "outputs": [],
   "source": [
    "uid = df_amp['uuid'].to_list()\n",
    "text = df_amp['review'].to_list()"
   ]
  },
  {
   "cell_type": "code",
   "execution_count": 24,
   "metadata": {},
   "outputs": [],
   "source": [
    "tuples_list = list(zip(uid , text))"
   ]
  },
  {
   "cell_type": "code",
   "execution_count": 25,
   "metadata": {},
   "outputs": [],
   "source": [
    "embeddings.index([(atrs[0], atrs[1], None) for atrs in tuples_list])"
   ]
  },
  {
   "cell_type": "code",
   "execution_count": 26,
   "metadata": {},
   "outputs": [
    {
     "data": {
      "text/plain": [
       "[('4a180adf-a2f3-4a48-84d7-72e3153643ea', 0.33436039090156555),\n",
       " ('4128b615-813b-48bb-9cc7-35926a095805', 0.3244030475616455),\n",
       " ('43c1fcd0-fab7-46de-802c-3fc9facb82ee', 0.32153862714767456)]"
      ]
     },
     "execution_count": 26,
     "metadata": {},
     "output_type": "execute_result"
    }
   ],
   "source": [
    "embeddings.search('best amp ever')"
   ]
  },
  {
   "cell_type": "code",
   "execution_count": 29,
   "metadata": {},
   "outputs": [],
   "source": [
    "filtered_column = df_amp.loc[df_amp['uuid'] == '4a180adf-a2f3-4a48-84d7-72e3153643ea', 'review']"
   ]
  },
  {
   "cell_type": "code",
   "execution_count": 33,
   "metadata": {},
   "outputs": [
    {
     "data": {
      "text/plain": [
       "243     Peachtree amp500 stereo amplifier. It is on k...\n",
       "Name: review, dtype: object"
      ]
     },
     "execution_count": 33,
     "metadata": {},
     "output_type": "execute_result"
    }
   ],
   "source": [
    "filtered_column"
   ]
  },
  {
   "cell_type": "code",
   "execution_count": 18,
   "metadata": {},
   "outputs": [
    {
     "data": {
      "text/plain": [
       "330"
      ]
     },
     "execution_count": 18,
     "metadata": {},
     "output_type": "execute_result"
    }
   ],
   "source": [
    "embeddings.count()"
   ]
  }
 ],
 "metadata": {
  "kernelspec": {
   "display_name": "Python 3",
   "language": "python",
   "name": "python3"
  },
  "language_info": {
   "codemirror_mode": {
    "name": "ipython",
    "version": 3
   },
   "file_extension": ".py",
   "mimetype": "text/x-python",
   "name": "python",
   "nbconvert_exporter": "python",
   "pygments_lexer": "ipython3",
   "version": "3.10.12"
  }
 },
 "nbformat": 4,
 "nbformat_minor": 2
}
