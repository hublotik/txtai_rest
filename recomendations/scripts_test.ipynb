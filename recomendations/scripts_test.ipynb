{
 "cells": [
  {
   "cell_type": "markdown",
   "metadata": {},
   "source": [
    "## To calculate the power handling capability of headphones using sensitivity and impedance, you can use the following formula:\n",
    "\n",
    "Power (headphones) = (Voltage^2) / Impedance\n",
    "\n",
    "To use this formula, you need to know the voltage applied to the headphones and their impedance.\n",
    "\n",
    "1. Convert the sensitivity from dB to voltage:\n",
    "- Calculate the voltage corresponding to the sensitivity in dB using the formula:\n",
    "Voltage = 10^(sensitivity/20)\n",
    "\n",
    "2. Substitute the voltage and impedance values into the power formula:\n",
    "- Power (headphones) = (Voltage^2) / Impedance\n",
    "\n",
    "By using this formula, you can estimate the power handling capability of the headphones based on their sensitivity and impedance. However, please note that this calculation assumes a linear relationship between voltage, impedance, and power. In reality, headphone specifications may vary, and other factors such as distortion levels and frequency response can also affect their performance."
   ]
  },
  {
   "cell_type": "markdown",
   "metadata": {},
   "source": []
  },
  {
   "cell_type": "markdown",
   "metadata": {},
   "source": []
  },
  {
   "cell_type": "code",
   "execution_count": 6,
   "metadata": {},
   "outputs": [],
   "source": [
    "from txtai.pipeline import Translation\n",
    "\n",
    "# Create and run pipeline\n",
    "translate = Translation()"
   ]
  },
  {
   "cell_type": "code",
   "execution_count": 8,
   "metadata": {},
   "outputs": [
    {
     "data": {
      "text/plain": [
       "'Hi'"
      ]
     },
     "execution_count": 8,
     "metadata": {},
     "output_type": "execute_result"
    }
   ],
   "source": [
    "\n",
    "translate(\"Привет\", \"en\")"
   ]
  },
  {
   "cell_type": "code",
   "execution_count": 2,
   "metadata": {},
   "outputs": [
    {
     "name": "stderr",
     "output_type": "stream",
     "text": [
      "/home/petr/.local/lib/python3.10/site-packages/tqdm/auto.py:21: TqdmWarning: IProgress not found. Please update jupyter and ipywidgets. See https://ipywidgets.readthedocs.io/en/stable/user_install.html\n",
      "  from .autonotebook import tqdm as notebook_tqdm\n",
      "/usr/lib/python3/dist-packages/scipy/__init__.py:146: UserWarning: A NumPy version >=1.17.3 and <1.25.0 is required for this version of SciPy (detected version 1.26.2\n",
      "  warnings.warn(f\"A NumPy version >={np_minversion} and <{np_maxversion}\"\n"
     ]
    }
   ],
   "source": [
    "from txtai import Embeddings\n",
    "from pathlib import Path\n",
    "import pandas as pd\n",
    "\n",
    "df_amp = pd.read_csv(f\"/..{Path.cwd()}/parse/final_amp.csv\", encoding='utf-8')"
   ]
  },
  {
   "cell_type": "code",
   "execution_count": 6,
   "metadata": {},
   "outputs": [],
   "source": [
    "embeddings = Embeddings(path=\"sentence-transformers/nli-mpnet-base-v2\")\n",
    "def create_emb_from_csv(file_name, folder_name):\n",
    "    df_amp = pd.read_csv(f\"/..{Path.cwd()}/parse/{file_name}\", encoding='utf-8')\n",
    "    uid = df_amp['uuid'].to_list()\n",
    "    text = df_amp['review'].to_list()\n",
    "    tuples_list = list(zip(uid , text))\n",
    "    embeddings.index([(atrs[0], atrs[1], None) for atrs in tuples_list])\n",
    "    embeddings.save(f'/..{Path.cwd()}/{folder_name}')\n",
    "create_emb_from_csv('amp_clean.csv', 'amp_clnd')\n",
    "create_emb_from_csv('hdph_clr.csv', 'hdph_clnd')"
   ]
  },
  {
   "cell_type": "code",
   "execution_count": null,
   "metadata": {},
   "outputs": [],
   "source": [
    "embeddings.load(f\"/..{Path.cwd()}/parse/amp_clnd\")"
   ]
  },
  {
   "cell_type": "code",
   "execution_count": 6,
   "metadata": {},
   "outputs": [
    {
     "data": {
      "text/html": [
       "<div>\n",
       "<style scoped>\n",
       "    .dataframe tbody tr th:only-of-type {\n",
       "        vertical-align: middle;\n",
       "    }\n",
       "\n",
       "    .dataframe tbody tr th {\n",
       "        vertical-align: top;\n",
       "    }\n",
       "\n",
       "    .dataframe thead th {\n",
       "        text-align: right;\n",
       "    }\n",
       "</style>\n",
       "<table border=\"1\" class=\"dataframe\">\n",
       "  <thead>\n",
       "    <tr style=\"text-align: right;\">\n",
       "      <th></th>\n",
       "      <th>uuid</th>\n",
       "      <th>Name</th>\n",
       "      <th>THD</th>\n",
       "      <th>SINAD</th>\n",
       "      <th>Power</th>\n",
       "      <th>Price</th>\n",
       "      <th>Source</th>\n",
       "      <th>review</th>\n",
       "    </tr>\n",
       "  </thead>\n",
       "  <tbody>\n",
       "    <tr>\n",
       "      <th>0</th>\n",
       "      <td>487bdeb2-053d-4e6c-8402-7c59e37785d2</td>\n",
       "      <td>McIntosh Laboratory MC462</td>\n",
       "      <td>0.00</td>\n",
       "      <td>106</td>\n",
       "      <td>720</td>\n",
       "      <td>9000</td>\n",
       "      <td>Stereophile</td>\n",
       "      <td>I performed a full set of measurements on the ...</td>\n",
       "    </tr>\n",
       "    <tr>\n",
       "      <th>1</th>\n",
       "      <td>64bb10e3-a88d-418c-9190-28713032170e</td>\n",
       "      <td>Primare A35.8</td>\n",
       "      <td>0.00</td>\n",
       "      <td>101</td>\n",
       "      <td>300</td>\n",
       "      <td>5500</td>\n",
       "      <td>Stereophile</td>\n",
       "      <td>I tested the Primare A35.8 with my Audio Preci...</td>\n",
       "    </tr>\n",
       "    <tr>\n",
       "      <th>2</th>\n",
       "      <td>a245f6d0-6af0-4571-a472-7b1efea8266e</td>\n",
       "      <td>NAD C 298</td>\n",
       "      <td>0.00</td>\n",
       "      <td>98</td>\n",
       "      <td>510</td>\n",
       "      <td>2000</td>\n",
       "      <td>Stereophile</td>\n",
       "      <td>The NAD C 298 can be operated as a conventiona...</td>\n",
       "    </tr>\n",
       "    <tr>\n",
       "      <th>3</th>\n",
       "      <td>fb80d337-8307-43d4-88cb-c5dac336c400</td>\n",
       "      <td>McIntosh Laboratory MC501</td>\n",
       "      <td>0.00</td>\n",
       "      <td>98</td>\n",
       "      <td>1000</td>\n",
       "      <td>8200</td>\n",
       "      <td>Stereophile</td>\n",
       "      <td>The McIntosh MC501 is unusual for a solid-stat...</td>\n",
       "    </tr>\n",
       "    <tr>\n",
       "      <th>4</th>\n",
       "      <td>2a96cf67-57a6-45c7-8f02-c629dff62df3</td>\n",
       "      <td>Halcro dm88 Reference</td>\n",
       "      <td>0.00</td>\n",
       "      <td>97</td>\n",
       "      <td>525</td>\n",
       "      <td>40000</td>\n",
       "      <td>Stereophile</td>\n",
       "      <td>I preconditioned one of the Halcro dm88 monobl...</td>\n",
       "    </tr>\n",
       "    <tr>\n",
       "      <th>...</th>\n",
       "      <td>...</td>\n",
       "      <td>...</td>\n",
       "      <td>...</td>\n",
       "      <td>...</td>\n",
       "      <td>...</td>\n",
       "      <td>...</td>\n",
       "      <td>...</td>\n",
       "      <td>...</td>\n",
       "    </tr>\n",
       "    <tr>\n",
       "      <th>325</th>\n",
       "      <td>121b949a-a9cc-4711-b8ac-637fc25b1dfd</td>\n",
       "      <td>Carver M-1.5t</td>\n",
       "      <td>0.19</td>\n",
       "      <td>54</td>\n",
       "      <td>236</td>\n",
       "      <td>800</td>\n",
       "      <td>ASR</td>\n",
       "      <td>Carver M-1.5t vintage stereo amplifier. It wa...</td>\n",
       "    </tr>\n",
       "    <tr>\n",
       "      <th>326</th>\n",
       "      <td>b1fb3ab8-1fdb-4a43-8272-6a19684ccb1f</td>\n",
       "      <td>SMSL SA100</td>\n",
       "      <td>0.20</td>\n",
       "      <td>54</td>\n",
       "      <td>22</td>\n",
       "      <td>74</td>\n",
       "      <td>ASR</td>\n",
       "      <td>SMSL SA100 Stereo Audio Amplifier with analog...</td>\n",
       "    </tr>\n",
       "    <tr>\n",
       "      <th>327</th>\n",
       "      <td>9a0b1fdf-a368-48eb-9760-ce3ee87f45f5</td>\n",
       "      <td>Carver Crimson 275</td>\n",
       "      <td>0.48</td>\n",
       "      <td>46</td>\n",
       "      <td>17</td>\n",
       "      <td>2750</td>\n",
       "      <td>ASR</td>\n",
       "      <td>Carver Crimson 275 tube stereo power amplifie...</td>\n",
       "    </tr>\n",
       "    <tr>\n",
       "      <th>328</th>\n",
       "      <td>caf863e0-373f-44fb-82d8-94af5f912406</td>\n",
       "      <td>Carver Raven 350</td>\n",
       "      <td>0.62</td>\n",
       "      <td>44</td>\n",
       "      <td>272</td>\n",
       "      <td>9500</td>\n",
       "      <td>ASR</td>\n",
       "      <td>Carver Raven 350 tube monoblock amplifier. It...</td>\n",
       "    </tr>\n",
       "    <tr>\n",
       "      <th>329</th>\n",
       "      <td>3daa8a74-0f89-467d-82f2-2d2b4689cee6</td>\n",
       "      <td>Pass ACA</td>\n",
       "      <td>2.57</td>\n",
       "      <td>32</td>\n",
       "      <td>1</td>\n",
       "      <td>320</td>\n",
       "      <td>ASR</td>\n",
       "      <td>Pass ACA Class A stereo power amplifier.  It ...</td>\n",
       "    </tr>\n",
       "  </tbody>\n",
       "</table>\n",
       "<p>330 rows × 8 columns</p>\n",
       "</div>"
      ],
      "text/plain": [
       "                                     uuid  ...                                             review\n",
       "0    487bdeb2-053d-4e6c-8402-7c59e37785d2  ...  I performed a full set of measurements on the ...\n",
       "1    64bb10e3-a88d-418c-9190-28713032170e  ...  I tested the Primare A35.8 with my Audio Preci...\n",
       "2    a245f6d0-6af0-4571-a472-7b1efea8266e  ...  The NAD C 298 can be operated as a conventiona...\n",
       "3    fb80d337-8307-43d4-88cb-c5dac336c400  ...  The McIntosh MC501 is unusual for a solid-stat...\n",
       "4    2a96cf67-57a6-45c7-8f02-c629dff62df3  ...  I preconditioned one of the Halcro dm88 monobl...\n",
       "..                                    ...  ...                                                ...\n",
       "325  121b949a-a9cc-4711-b8ac-637fc25b1dfd  ...   Carver M-1.5t vintage stereo amplifier. It wa...\n",
       "326  b1fb3ab8-1fdb-4a43-8272-6a19684ccb1f  ...   SMSL SA100 Stereo Audio Amplifier with analog...\n",
       "327  9a0b1fdf-a368-48eb-9760-ce3ee87f45f5  ...   Carver Crimson 275 tube stereo power amplifie...\n",
       "328  caf863e0-373f-44fb-82d8-94af5f912406  ...   Carver Raven 350 tube monoblock amplifier. It...\n",
       "329  3daa8a74-0f89-467d-82f2-2d2b4689cee6  ...   Pass ACA Class A stereo power amplifier.  It ...\n",
       "\n",
       "[330 rows x 8 columns]"
      ]
     },
     "execution_count": 6,
     "metadata": {},
     "output_type": "execute_result"
    }
   ],
   "source": [
    "df_amp"
   ]
  },
  {
   "cell_type": "code",
   "execution_count": 10,
   "metadata": {},
   "outputs": [],
   "source": [
    "embeddings.index(df_amp['uuid'].to_list(), df_amp['review'].to_list())"
   ]
  },
  {
   "cell_type": "code",
   "execution_count": 19,
   "metadata": {},
   "outputs": [],
   "source": [
    "uid = df_amp['uuid'].to_list()\n",
    "text = df_amp['review'].to_list()"
   ]
  },
  {
   "cell_type": "code",
   "execution_count": 24,
   "metadata": {},
   "outputs": [],
   "source": [
    "tuples_list = list(zip(uid , text))"
   ]
  },
  {
   "cell_type": "code",
   "execution_count": 25,
   "metadata": {},
   "outputs": [],
   "source": [
    "embeddings.index([(atrs[0], atrs[1], None) for atrs in tuples_list])"
   ]
  },
  {
   "cell_type": "code",
   "execution_count": 26,
   "metadata": {},
   "outputs": [
    {
     "data": {
      "text/plain": [
       "[('4a180adf-a2f3-4a48-84d7-72e3153643ea', 0.33436039090156555),\n",
       " ('4128b615-813b-48bb-9cc7-35926a095805', 0.3244030475616455),\n",
       " ('43c1fcd0-fab7-46de-802c-3fc9facb82ee', 0.32153862714767456)]"
      ]
     },
     "execution_count": 26,
     "metadata": {},
     "output_type": "execute_result"
    }
   ],
   "source": [
    "embeddings.search('best amp ever')"
   ]
  },
  {
   "cell_type": "code",
   "execution_count": 29,
   "metadata": {},
   "outputs": [],
   "source": [
    "filtered_column = df_amp.loc[df_amp['uuid'] == '4a180adf-a2f3-4a48-84d7-72e3153643ea', 'review']"
   ]
  },
  {
   "cell_type": "code",
   "execution_count": 33,
   "metadata": {},
   "outputs": [
    {
     "data": {
      "text/plain": [
       "243     Peachtree amp500 stereo amplifier. It is on k...\n",
       "Name: review, dtype: object"
      ]
     },
     "execution_count": 33,
     "metadata": {},
     "output_type": "execute_result"
    }
   ],
   "source": [
    "filtered_column"
   ]
  },
  {
   "cell_type": "code",
   "execution_count": 18,
   "metadata": {},
   "outputs": [
    {
     "data": {
      "text/plain": [
       "330"
      ]
     },
     "execution_count": 18,
     "metadata": {},
     "output_type": "execute_result"
    }
   ],
   "source": [
    "embeddings.count()"
   ]
  },
  {
   "cell_type": "code",
   "execution_count": 4,
   "metadata": {},
   "outputs": [
    {
     "name": "stderr",
     "output_type": "stream",
     "text": [
      "/home/petr/.local/lib/python3.10/site-packages/tqdm/auto.py:21: TqdmWarning: IProgress not found. Please update jupyter and ipywidgets. See https://ipywidgets.readthedocs.io/en/stable/user_install.html\n",
      "  from .autonotebook import tqdm as notebook_tqdm\n",
      "/usr/lib/python3/dist-packages/scipy/__init__.py:146: UserWarning: A NumPy version >=1.17.3 and <1.25.0 is required for this version of SciPy (detected version 1.26.2\n",
      "  warnings.warn(f\"A NumPy version >={np_minversion} and <{np_maxversion}\"\n"
     ]
    }
   ],
   "source": [
    "from txtai import Embeddings\n",
    "from pathlib import Path\n",
    "import pandas as pd\n",
    "embeddings = Embeddings(path=\"sentence-transformers/nli-mpnet-base-v2\")"
   ]
  },
  {
   "cell_type": "code",
   "execution_count": 55,
   "metadata": {},
   "outputs": [],
   "source": [
    "from txtai.pipeline import Similarity\n",
    "similarity = Similarity(\"valhalla/distilbart-mnli-12-3\")"
   ]
  },
  {
   "cell_type": "code",
   "execution_count": 13,
   "metadata": {},
   "outputs": [],
   "source": [
    "# dataframe = pd.read_csv(f\"/..{Path.cwd()}/parse/hdph_clr.csv\", encoding='utf-8')\n",
    "# data = dataframe['review'].to_list()\n",
    "# uid = dataframe['uuid'].to_list()\n",
    "# Works with a list, dataset or generator\n",
    "\n",
    "# list(zip(uid , data))\n",
    "q = 'qqqqqqqqqqqqqqqqqqqqqqqqqqqqqqqqqqqqqq'\n",
    "embeddings.load(f\"/..{Path.cwd()}/parse/hdph_clnd\")\n",
    "\n",
    "\n",
    "res = embeddings.search(q, 10)\n",
    "\n"
   ]
  },
  {
   "cell_type": "code",
   "execution_count": 14,
   "metadata": {},
   "outputs": [
    {
     "data": {
      "text/plain": [
       "[('629e852c-b170-42e1-8c4a-6b171b18d395', 0.4290499687194824),\n",
       " ('c8b20512-a1fa-49ab-b0bd-e57086f99b48', 0.4207422733306885),\n",
       " ('fb7686b6-7487-4147-a1b8-a5c2b8efdbb6', 0.4195127487182617),\n",
       " ('76fdf09e-586f-4634-b9c8-e1cda88fae8c', 0.41574227809906006),\n",
       " ('628aedde-68d5-44ed-88fb-8ccbdb1d8f45', 0.4129171371459961),\n",
       " ('31b2f528-13c3-4015-a800-95d2c3190dd9', 0.41073885560035706),\n",
       " ('fb8502e0-38b6-423d-94d5-239bc7af448b', 0.4100363254547119),\n",
       " ('e69c7006-b9d6-4e4d-8da1-b527016a581b', 0.4093388319015503),\n",
       " ('41f58cb4-679b-4b1c-9f77-4dc35b902b5f', 0.40611061453819275),\n",
       " ('de420cc2-dacc-4cc8-9e5e-2591d39ebd21', 0.4045361578464508)]"
      ]
     },
     "execution_count": 14,
     "metadata": {},
     "output_type": "execute_result"
    }
   ],
   "source": [
    "res"
   ]
  },
  {
   "cell_type": "code",
   "execution_count": null,
   "metadata": {},
   "outputs": [],
   "source": []
  },
  {
   "cell_type": "code",
   "execution_count": 2,
   "metadata": {},
   "outputs": [
    {
     "data": {
      "text/plain": [
       "''"
      ]
     },
     "execution_count": 2,
     "metadata": {},
     "output_type": "execute_result"
    }
   ],
   "source": [
    "([''],[''])[0][0]"
   ]
  },
  {
   "cell_type": "code",
   "execution_count": 49,
   "metadata": {},
   "outputs": [],
   "source": [
    "result_list = [(tuple_value[1], dataframe.loc[dataframe['uuid'] == tuple_value[0], 'review'].values[0], tuple_value[0]) for tuple_value in res if tuple_value[0] in dataframe['uuid'].values]\n",
    "score = []\n",
    "reviews = []\n",
    "uid = []\n",
    "for sim_text_uid in result_list:\n",
    "    score += [sim_text_uid[0]]\n",
    "    reviews += [sim_text_uid[1]]\n",
    "    uid += [sim_text_uid[2]]\n",
    "sim_res = similarity(q, reviews)\n",
    "sim_res_filtered = sorted(sim_res, key=lambda x: x[0])\n"
   ]
  },
  {
   "cell_type": "code",
   "execution_count": 50,
   "metadata": {},
   "outputs": [],
   "source": [
    "sim_res_score = [values[1] for values in sim_res_filtered]"
   ]
  },
  {
   "cell_type": "code",
   "execution_count": 51,
   "metadata": {},
   "outputs": [
    {
     "data": {
      "text/plain": [
       "[('41f58cb4-679b-4b1c-9f77-4dc35b902b5f',\n",
       "  0.9777122735977173,\n",
       "  'hedd heddphone headphone cost sugar coating massive size high weight hedd wear heavy helmet protective gear woodworking working yard weight least initially bothersome wide supple leather strap help fit tight side side however rotate head quickly headphone lag following got used whole affair listening hour took could sense slight discomfort back bottom neck given heddphone everyday listening gear would put listen bit take edit seems like leather strap aftermarket addition headphone rather stiff rope like detachable cable come see main differentiation headphone driver amt one used seeing tweeter speaker put use full range unit good idea let find measuring listening hedd heddphone measurementsas usual start important frequency response graph shown together reference target let first note going large variance left right channel strap screwed chassis headphone using four tiny screw delivered owner would get wide enough properly experiment placement gear close needed hair looked adjusting screw seem partially damaged nicked want take chance messing played around got one channel perform well one green attempt placement produced red curve cup back measurement see quite uneven exaggerated response khz peaking quite odd must kind low resonance unfortunately make audible khz actually close target forgetting trough usually cancellation caused reflection note headphone quite inefficient requiring nearly volt produce dbspl due sharply declining bass response need crank much get decent sub bass response happy roughness response see lot tiny noise like variation let look distortion graph see clue wow happened every speaker tested headphone far highest distortion low frequency shrinking low higher one hedd opposite hearing sensitive khz highest distortion seem good idea note however ratio get spiky response dip let look absolute level problem although nearly revealing previous graph reference dbspl exceeded khz khz glass half full point view though able push low frequency hard distortion consequence group delay also point messiness mid frequency although measurement revealing general exception tall spiked indicate non minimum phase response attempt fortunately also show narrow deep trough frequency response group delay graph confirms want see speaker frequency response type graph good tool deciding equalization usually put cursor area large deviation based note response whopping variation reference clearly dealing coloration impedance essentially constant rather low ohm mean high impedance tube headphone would modify frequency response headphone however doubt drive headphone due low sensitivity high impedance headphone amp would chew power headphone need produce sound best stay high performance high power low impedance headphone amplifier headphone listening testsmy initial reaction hedd sounded like speaker much room mode uneven bass response could tolerate long pulled equalization tool roon medium player went correcting low mid frequency error filter borderline make headphone sound lighter foot may like extra bass boost without found hedd sound somewhat bright deep bass boost despite lowering energy tonal balance improved substantially excellent clean bass together high focused remarkable improvement soundstage without response maybe bit better typical headphone center head response larger bubble created started ear travelled inch instrument layering separately half sphere demonstrates frequency response large role sound stage even though people think distinct phenomenon think fact lower frequency tend mono hence exaggerated without stepped spatial cue higher frequency track brings layering well recently released orchestral live album sigur odin raven magic track stendur around minute incredibly deep synthesized bass arrives barely appreciated without make presence known wonderfully hedd spectrum analyzer rme adi shoot way high distortion mid frequency could hear number time thought high clear remembered past really unreliable subjective test would need proper test know sure would say barrier enjoyment headphone equalization maybe time get smarter distortion mean conclusionsthe heddphone brings fresh new approach building headphone also present significant compromise size weight uneven low frequency response much former two equalization quite effectively lifting performance headphone nearly fail high price wow thing sing recommend hedd heddphone many compromise right someone headphone want try something different provide excellent soundstaging layering instrument overall tonality note new rule posted review thread enforced take caution making generalization keep comment specific headphone result general complaint rant result sanction dedicated thread people come learn headphone read opinion always question comment recommendation etc welcome appreciate donation using'),\n",
       " ('629e852c-b170-42e1-8c4a-6b171b18d395',\n",
       "  0.8758992552757263,\n",
       "  'drop focal elex kindly loaned cost elex naturally follows design rest focal line headphone weighs gram inside cup dimension note driver angled cup depth varies overall comfort excellent owner must similar shape face head worn pad right note measurement see preformed using standardized gras headphone measurement fixture headphone measurement require interpretation speaker test requirement subjective testing result addition comparison measurement different people performing using different con urations requires fair bit skill look matching result focus high level picture listening test performed using rme adi dac headphone output mounting headphone text fixture easy requiring little manipulation get left right match dual frequency focal elex measurementsas usual start stereo frequency response measurement sure look similar focal clear frequency response thing different better channel matching elex could measure difference much sample difference even focal utopia look similar look like target response matched back elex relative frequency response thus group delay match well noted member hypothesis messiness group delay khz may result better spatial effect need proof sisterhood clear elex distortion graph match yet one difference though time headphone listened sweep horrified hear driver crackle dbspl clear must done well given signature response green whoever think driver limitation imagined well need stop saying positive front incredibly low distortion dbspl line literally melt percentage even dbspl distortion speak khz long hit limit drive one low distortion transducer maybe trade made distortion graph absolute scale impedance variable match clear sensitivity good requiring half much drive sennheiser example focal elex listening testsas focal clear non equalized response fine nothing get excited similar equalization resulted major improvement may biased distortion measurement constantly went note clean happened across board many track quiet note especially delight elex long though got horrified crackling sound man thing scary audio gear scared watt power amplifier enough juice send speaker mar elex headphone spot hand volume control could enjoy track high volume kept worrying crackle turned volume got busy another review couple hour later realized comfortable headphone nice sound low volume conclusionslet cut chase focal elex driver limit nasty crackle would get highest remark utlra low distortion driver lends well equalization sound delight long keep volume reasonable sensible equalization sadly get closer limit application would surely hit limit shame shock driver limit clear decided upgrade rating elex recommended always question comment recommendation etc welcome'),\n",
       " ('fa56c608-cb99-4ed3-8ed0-10b7e0d422b6',\n",
       "  0.8972979187965393,\n",
       "  'drop mrspeakers ether closed planar headphone company reached couple year ago see would review time testing headphone said could use low impedance headphone test headphone amp offered ether main role currently ether cost drop com remiss reviewing many loaner headphone test ala seems every day someone reach asking test ether professional stylistic look carbon fiber finish two sturdy xlr cable terminate pin xlr supplied adapter socket ether bit heavier side given large size find comfortable wear despite unique rectangular inside cup inside dimension one issue comfort hot wear due generous pad area quite warm point use summer lab loft heat rise force use iems part time year note measurement see made using standardized gras headphone measurement definition approximate variable surprised measurement even performed fixture mine differ end result protocol vary headband pressure averaging see confirm approximate accuracy measurement using equalization listening test ultimately headphone measurement le exact speaker mostly bass kilohertz keep mind read test think exact idea headphone performance likely wrong expected difficulty mating ether measurement rig due rectangular opening case fit instantly little need adjustment ether measurementslet start usual frequency response measurement interesting measure two year using without knowledge relief see well behaved response hug preference curve wild response either flat show intent get proper response albeit fully matching latest research relative response look good best news yet come form exceptionally low distortion even pushed dbspl headphone le distortion many dbspl used dan clark headphone still nice see design design know powerful tool testing headphone amplifier hear distortion almost always amplifier clipping headphone group delay show response bass impedance low flat expected best pay attention ohm load testing headphone amplifier sensitivity slightly average drop ether headphone listening test equalizationout box tonality fine exciting pulled tool add needed sub bass touch higher performance stellar spatial quality non existent showed would rate score front sub bass output post exceptional producing powerful note put smile face conclusionsthe drop ether well engineered headphone vanishingly low distortion frequency response missing sub bass complete presentation easy enough fix bit treble boosting improve spatial effect nice closed back headphone block external noise nicely produce clean faithful performance without lack excitement use may different recommend drop ether strongly equalization always question comment recommendation etc welcome'),\n",
       " ('c8b20512-a1fa-49ab-b0bd-e57086f99b48',\n",
       "  0.721725344657898,\n",
       "  'sennheiser closed back headphone cost large headphone feel like fit well head come two different length cable quite thick microphonic seem strong enough hang weighs gram internal cup dimension driver angled side le deep measurement see made using standardized gras searched measurement could find online ala number close mine none using exact fixture coupler pinna see confirmed approximate accuracy measurement using equalization listening test ultimately headphone measurement le exact speaker kilohertz keep mind read test usually calibrate loudness relative frequency two channel wildly sync see later opted khz instead change filter set create net result see channel match even though sennheiser reputation good matching driver despite large cup slight change would vary level fair bit rate could get two match minute spent sennheiser measurementsthere nothing important frequency response headphone seemingly different difference leaf distinct character first glance look pretty ugly dip around giant hump followed dip thankfully important range khz excellent tracking note comparing measurement others syncing preference point different spot wind showing compliance differently also rather broad notch khz subtracting response preference curve give marked two point interest let look distortion percentage starting right interesting distortion khz range dip driver response way left seems sudden rise distortion dip bass frequency distortion level actually change thd ratio level distortion level dropped due dip artificially created spike thd overall low distortion headphone khz hearing sensitive group delay rather clean indicating something wrong around hump running theory headphone good spatial effect would messy group delay lower treble area case impedance variable get quite high want pay attention high voltage headphone amp produce typical phone output usually low department making great fit efficiency slightly average make worse situation sennheiser headphone listening testsone look frequency response think going sound strange good sub bass response mean healthy response combined good spatial quality fair amount tail wind behind like sound headphone still one forced try correct response error see much better get equalization three left filter self explanatory inverse frequency response error let put pin right shelf new filter found sound correct also detailed cleaner without filter though found emphasis high frequency resonance female vocal lisping mind bit extra zing went back listened akg thing nearly emphasizes bothered bit without equalization khz make dip effect hugely magnified perhaps distorted resorted putting shelving filter right make help tried many technique find issue give put correction shame filling hole improved spatial effect anyway see comfortable headphone wear decent amount isolation good spatial effect listening type conclusionshard imagine behind motivation produce headphone kind objective frequency response appreciated deep bass response box pulling hump seemingly reduced distortion anyway mind khz remains puzzle could solve usually get bottom story behind headphone time done declare defeat leave overall based post subjective result recommend sennheiser mind personally would pay performance rating price independent part always question comment recommendation etc welcome'),\n",
       " ('9b207942-30ca-4949-b9b1-0dd7cd01e0ce',\n",
       "  0.9303138256072998,\n",
       "  'nad headphone drop shipped nad still list headphone seem available retailer instead sold ebay think new going ebay seller certified refurbished normally apparently frequently sale member paid packaging headphone look brand new must clearance stock like modern look headphone notice two cup hanging differently headband symmetrical combined rather small cup made getting consistent result two channel impossible also expand headband become rather square giving frankenstein look monitor reflective good interesting twist headphone appreciated plug diminutive cord either headphone socket cord ultra light short guess made portable use managed pull amplifier moved around fortunately replace longer cord nad viso measurementsi surprised see frequency response big shortfall upper midrange treble region testing countless speaker deficiency area tell take fun sparkle music judging bass response crapshoot due highly challenging fit gras artificial ear slightest movement would make response vary ton due headband expanding asymmetrically could get cup fit properly time low high frequency sample fit need use judgement equalization going deviation preference target curve see variation quite large sense bickering preference curve matter look headphone sucked response region peaking around khz narrow since test fixture emphasizes region think may merit bit correction distortion low bass general get thing loud interesting observe narrow peak absolute term using dbspl reference distortion comfortably threshold dbspl group delay somewhat instructive showing discontinuity frequency response variation otherwise give license equalize response see fit especially khz region sharp spiked would tell otherwise impedance le flat look headphone measurement look performance relative ohm load use testing close match sensitivity excellent meaning need little power nad headphone listening testsout box nothing offensive sound could told frequency response much exceeds target response distortion quite low second adjustment notice closed bass heavy sound let waste time apply judicious correction based frequency response filter make substantial improvement exception khz one could leave wanted wow transformation thing take equalization like duck take water beautiful bass midrange treble squeakily clean huge bonus spatial quality improve substantially since lot stereo cue khz boosted quote like get paid think headphone angled driver equalization must behind open oval sphere head side panned instrument position left right mono vocal take front top center stage sennheiser category talking flavor tell post equalization want stop listening matter fact next day listening typing review word comfort seems loosened bit today become comfortable yesterday would rate comfort take glass since headphone relies rather strong clamp pressure stay head headband stay proud even lowest extension cup personally sure could use day continue loosen sound isolation good good larger closed headphone conclusionswhat hidden jewel post equalization sale price steal relative smooth low distortion quality sound provides comfortable large cup higher end headphone may high efficiency also able drive many portable device said recommend nad without however give strong recommendation especially considering price heck would even take price equalization always question comment recommendation etc welcome'),\n",
       " ('3bfe46b3-534a-4bba-af58-b63f40e6916f',\n",
       "  0.8425467610359192,\n",
       "  'review detailed measurement equalization superlux semi open headphone kindly purchased member new drop shipped cost little including free shipping amazon needle say looking plastic headphone look like adjust headband trust tried first little pad top supposed self adjusting mechanism kind work put pressure two small spot head cable terminates male connector unusual cup larger side help lot comfort given stiff spring action would give comfort wear minute superlux measurementshere frequency response see good adherence target curve khz good trough two peak also usual bass drop subtracting frequency response target get kind deviation see huge variation span kilohertz noted graph first peak interestingly enough correlate precisely distortion frequency good news need take peak anyway also reducing distortion bonus unfortunately helped high distortion bass boosting may compromise enough sub bass response distortion later equalization section log display distortion showing already know group delay informative know try fix large dip high frequency result two wave cancelling change resulting cancellation show large group delay indicated spike marked impedance frequency graph constant worry amplifier impedance high let know like kind non zoomed display better think obscuring info interest graph confusing see highly zoomed first glance sensitivity good superlux headphone listening test equalizationquick listen showed somewhat exaggerated high grittiness added good measure time bit dullness know oxymoron context overall pleasant experience let try fix issue wow transformation blindfolded put ear would swear listening expensive headphone large driver provide good bit spatial information creating soundstage dangles ear back mono content behind forehead added effect combined good tonality much deeper bass provided enjoyable experience love collaboration nick cave nicholas noorenbergh track example let indicate though sound get bit boomy high persisted bit bright time especially female vocal high frequency shelving filter would fix latter wanted stick philosophy piling many filter indicated already provides excellent performance lied bit something bugging still played track sever ego jewel kept hearing voice left center first ignored realized happening track looked back frequency response realized one channel lower level across board pulled roon level control boosted weak channel using pink noise nicely anchored mono aspect track center removing hanging nail effect channel balanced conclusionswe yet another example box objective subjective performance disappointing could try forgive given cost equalization headphone outperform speaker costing thousand dollar tonality fit comfort good enough spatial effect satisfying wonderful experience bit software signal processing predict summary good recommended equalization bargain measurement data included time csv file let know like better'),\n",
       " ('569cbbe1-30ae-457a-9983-0ba0ca0419af',\n",
       "  0.812480092048645,\n",
       "  'review detailed review abyss phi planar magnetic headphone come three different con urations lite version costing one complete con uration costing extra going replacement cable must say person headphone look better see someone wearing head may remind people frankenstein unlike many headphone premium cable serf two purpose first function provide sound driver second one tow rope car get stuck mud snow mean good grief thing heavy long constantly uring route tug headphone trip hazard sadly premium cable sold weight size guess cable test compare headphone naturally quite heavy gram wear almost comfortably real spring action adjust width headphone le hang next ear force lengthen shorten top headband barely long enough fixture company unusually recommends try wearing gap ear avoided measured headphone tightest fit could lest riot street due bass response cup deep deep average risk ear hitting driver oval height width strong magnet hold cup headphone pull rotate another angle left owner sent note unit forth generation one measurement see made using standardized gras searched measurement could find online ala number close mine none using exact fixture coupler pinna see confirmed approximate accuracy measurement using equalization listening test ultimately headphone measurement le exact speaker specially bass kilohertz keep mind read test abyss phi measurementsas usual start frequency response hmmm hard imagine target curve going clearly anomaly imagine intentional misguided sure main good news plenty bass response energy need mid range pull lower distortion well relative form company talk lot imaging spatial effect headphone seeing shortfall critical midrange left lot money table next come scary graph abyss diana headphone tested ton distortion company would well pay attention work find remedy said listening test modest level produced clean sound prompting back measurement realizing distortion dbspl actually quite low considering much sub bass energy already need boost much see get cranking volume clearly cause much distortion though binomial distribution bass treble usually enemy bass distortion listening test distortion level group delay show common messiness mid frequency going hypothesis indication good spatial effect show interference multiple source reflection messiness lower range though welcome although audible effect unknown impedance dead flat low expect planar magnetic driver sensitivity second worst measured roughly need four time voltage drive loudness sennheiser example abyss phi listening test equalizationheadphone measurement approximate best way verify correctness modify headphone response way instruct see effect positive though listened find sound exciting terrible mind clearly colored came parametric note response curve odd shaped make matching parametric curve hard eyeballed fortunately result fantastic tonality improved substantially clarity improved likely due reduction distortion wonderful spatial effect really nice halo behind head seemed constantly delight way would place instrument deep bass substantial modest boost clean clean clean listened hour want stop check distortion clipping turned volume instrumental female vocal high got bit distorted suddenly greeted oddest buzzing sound literally went paying music playing noise fortunately pretty loud expect everyday problem music bass heavy produce ton start make ticking sound bass peak turn even get louder still beyond normal use onset mild experience match distortion measurement saw problem multiple frequency bass driver simply designed pushed hard speaking pushing used topping highest gain setting using balanced trouble driving headphone highest level per rme adi dac normally use balanced headphone routed line output listening test conclusionstechnically abyss fair bit objective fault frequency response varies rhyme reason distorts higher volume former correctable using equalization latter requires listening normal level even putting aside cable upgrade one expensive headphone would buy one would keep without would apply enjoy sound becomes capable entertainer without recommend abyss phi equalization becomes delight recommend ignoring price always question comment recommendation etc welcome appreciate donation using'),\n",
       " ('fb8502e0-38b6-423d-94d5-239bc7af448b',\n",
       "  0.9343000054359436,\n",
       "  'zmf atticus headphone cost member sent three pair pad look neither know stock one looking picture online look similar oem one woodworker much admire ured wood used cup look like zebra wood company reference different wood specie different page sure exactly note fair amount sound escape vent assume closed headphone classical sense headphone big naturally heavy side atticus clocking gram large cup comfortable though find tiring hour wore cup inside dimension note measurement see made using standardized gras headphone measurement definition approximate variable surprised measurement even performed fixture mine differ end result protocol vary headband pressure averaging see confirmed approximate accuracy measurement using equalization listening test ultimately headphone measurement le exact speaker mostly bass kilohertz keep mind read test think exact idea headphone performance likely wrong fitting headphone fixture challenge fair bit differential left right channel overall variability asymmetrical cup pressure le thin side may responsible pressure loss played fair bit could null difference overall response shape pretty much though confidence directionality measurement zmf atticus measurementsas usual start frequency response company advertises warmer sound clearly seems refer boosting upper bass frequency also talk bit zing high must thing push peak around khz say anything depressed region khz experience make headphone sound clusterphobic closed exceedingly common though see done subtracting response preference curve give easier graph use equalizer design noted response beyond large deviation also many sudden kink change usually indicates headphone changing pure pistonic response see evidence distortion graph bass distortion quite high let remember excess bass take worry happens farther response especially khz flaw strong effect show many place including group delay even electrical phase shame diagnosed fixed sensitivity slightly average impedance quite high ohm need headphone amp driver produce good bit voltage want high volume atticus zmf atticus listening test equalizationsthe stock performance atticus exciting track sounded dull closed decided fix mid frequency first making progress stop deal low frequency boominess literally got remarkable transformation throw large negative gain region nothing like power testing see negative effect artificial boost without seems like small problem take experience relief get realize much issue sub bass region present quickly dialed bit green filter band need put bass response tonality took dip spatial effect good combined excellent power handling sound enjoyable used headphone listening hour occasionally mid high frequency note would sound quite right could due distortion faultiness hoc subjective evaluation perfect transformation darn near without would near headphone becomes much better conclusionszmf executes look feel atticus well one appreciates getting something amount money spending ala company statement get neutral response key excellent transformation fidelity across large amount content without vocal muffled sound quite closed nature like bass like clean deep boosting thing sake boosting fortunately parametric equalization wonder tonality atticus substantially upgrade sound tonality spatial quality distortion partially dealt lowering bass remain concerned mid high frequency distortion especially khz critical part audible band overall recommend zmf atticus without get marginal recommendation always question comment recommendation etc welcome appreciate donation using'),\n",
       " ('db6db22a-528c-4868-8d9b-1abfaa0cc2ca',\n",
       "  0.9183131456375122,\n",
       "  'review listening test measurement truthear crinacle zero iem review sent crinacle consultant project cost like bit bling much cord right length super flexible little microphonics get two set silicone pad three different size suite fine wear largest one stay nicely put claim fame iem complies harman target let see case edit included tip one used measurement listening test truthear crinnacle zero iem measurementslet start frequency response measurement must say prepared tight fit target hair droop bit deviation response hug target wet towel nice render difference frequency response kind useless distortion good enough lower level get bit much maximum spl group delay revealing iems case impedance show evidence tuning bass frequency low impedance mean many amp source drive low sensitive low side well iem truthear crinnacle zero iem listening testsas usual start female vocal first reference track excellent warmth courtesy proper low frequency response continued track track tonality delightful sound right also enjoyable sound get like best speaker best room room mode course tactile feedback deep bass sound get picture cranked volume kind get loud thought bass started gradually get distorted practical problem going want listen unsafe volume sitting typing review listening marveling nice every track sound conclusionswhat earth reading rest review buy one care listen iems normally want iem know correct tonality listen transducer headphone speaker think tuning fork musician us iem need arsenal use iems summer month treat peanut pocket science work kudos crinacle advocating execution indebted contribution happy strongly recommend truthear crinnacle zero iem brings incredible harmony technical excellence superbly low purchase price always question comment recommendation etc welcome'),\n",
       " ('f596da28-81e9-4179-bdd5-a42036fd6952',\n",
       "  0.8061242699623108,\n",
       "  'focal celestee closed back headphone sent testing cost celestee luxury feel fit price fond spring action though headband spring pressure extremely progressive putting huge try expand bit expansion head fit rather tight positive side provided excellent sound isolation two plug terminate headphone cup stiff enough pull supplied cord likewise terminates plug quite short probably foot seems designed portable use definitely want longer desktop use note measurement see preformed using standardized gras headphone measurement fixture headphone measurement require interpretation speaker test requirement subjective testing result addition comparison measurement different people performing using different con urations requires fair bit skill look matching result focus high level picture listening test performed using rme adi dac headphone output mounting headphone test fixture somewhat challenging try match level hard low frequency see bit nothing mounting focal celestee measurementsas usual start stereo frequency response measurement pleased tight matching low frequency response target curve like droop green channel tried compensate moving headphone around matter large discrepancy remained looking measurement field also show mild version kink surprising see mismatching company like focal extensive driver manufacturing capability response le good get past khz khz valley large peak around khz likely audible relative frequency response show dip clearly distortion low absolute level note bass distortion look worse since good response really good news distortion front impedance somewhat variable given low value current hungry although term barely applies given high efficiency celestee group delay show well behaved response le ideal curve would exponentially roll dip around kink one channel maybe related focal celestee headphone listening testswithout equalization sound non offensive boring high muted soundstage mostly whacked middle head take track lot channel separation push anything close ear far separation helped thing lot addition compensate large dip helped lot open sound give much needed zing pulling two peak helped bit upper bass boominiess something strange though none sub bass heavy soundtrack played using celestee getting ready write review must due major shortfall one channel ability one channel using maybe fix sound fine still nothing get excited comparing dan clark aeon closed latter somewhat open sounding akg blew celestee water deep thundering sub bass excellent separation instrumentation sense detail going give celestee one grade higher comparison also found comfortable wear due much lighter weight conclusionsthis tough review write originally supposed come yesterday waited bit son test well thought based measurement sound would pleasing neither thought much tonality without rescue still nothing rave behind least could time problem headphone obvious conclusion without reservation given high cost recommend focal celestee spend kind money want headphone put smile face celestee simply really know target tonality headphone always question comment recommendation etc welcome')]"
      ]
     },
     "execution_count": 51,
     "metadata": {},
     "output_type": "execute_result"
    }
   ],
   "source": [
    "list(zip(uid, sim_res_score, reviews))"
   ]
  },
  {
   "cell_type": "code",
   "execution_count": 34,
   "metadata": {},
   "outputs": [
    {
     "data": {
      "text/plain": [
       "[0.9777122735977173,\n",
       " 0.9343000054359436,\n",
       " 0.9303138256072998,\n",
       " 0.9183131456375122,\n",
       " 0.8972979187965393,\n",
       " 0.8758992552757263,\n",
       " 0.8425467610359192,\n",
       " 0.812480092048645,\n",
       " 0.8061242699623108,\n",
       " 0.721725344657898]"
      ]
     },
     "execution_count": 34,
     "metadata": {},
     "output_type": "execute_result"
    }
   ],
   "source": []
  },
  {
   "cell_type": "code",
   "execution_count": 16,
   "metadata": {},
   "outputs": [
    {
     "data": {
      "text/plain": [
       "['31b2f528-13c3-4015-a800-95d2c3190dd9',\n",
       " '6c640678-9ecd-4fbc-a9bb-72a4ab9eb086',\n",
       " '628aedde-68d5-44ed-88fb-8ccbdb1d8f45',\n",
       " '76fdf09e-586f-4634-b9c8-e1cda88fae8c',\n",
       " '8f0d61c9-f3fa-4482-bec8-7eb51fe39389',\n",
       " '66358f40-648f-4fd1-8e91-230d91430f98',\n",
       " 'a5b07448-ed8a-4893-a022-0c76b0f8ffde',\n",
       " '0f55051d-2809-43c7-bc4d-9de74a9c1e43',\n",
       " '9b207942-30ca-4949-b9b1-0dd7cd01e0ce',\n",
       " 'b7357490-8bb0-43cf-a137-36c74f9e6fd8',\n",
       " 'bc9f452b-d295-437e-8c13-cf2723dc0450',\n",
       " '76f8d2e6-bd67-487f-8c86-cb7e34692a6f',\n",
       " '03881109-98af-4a9b-962e-1ce0d5a9fe87',\n",
       " 'a3adf676-c5fa-4a32-a93b-c11f7746056b',\n",
       " 'b930c7d5-fde6-4f00-a83f-89c1864929a2',\n",
       " 'd81caef7-0662-4750-aaa6-8106427e889b',\n",
       " '1642042e-723e-49c1-9929-fbb8eda66691',\n",
       " '713c4da4-5f9a-4912-899f-f2d2a19ebd2d',\n",
       " 'db6db22a-528c-4868-8d9b-1abfaa0cc2ca',\n",
       " 'a4e86f8d-0ee6-4877-b9a2-3fbe2cf6d108',\n",
       " 'd7c7655a-9e1f-464f-a442-bcdcc7920798',\n",
       " '87f44e75-adb8-46ce-a4dc-ef23f68e5f65',\n",
       " 'f596da28-81e9-4179-bdd5-a42036fd6952',\n",
       " 'b5f98bd6-21f3-46d9-8d16-7ddd8e8b6a11',\n",
       " '49fa0a58-4412-4850-865c-3887ff7d36dd',\n",
       " '0f2b4e09-db49-4a55-959a-0982d016008a',\n",
       " '33fe94d8-c864-4004-8d65-b06d0672cf67',\n",
       " 'de420cc2-dacc-4cc8-9e5e-2591d39ebd21',\n",
       " 'defb5819-04e0-4692-9dd5-85e6f2c04aa6',\n",
       " '68ba0af1-a6c3-40cb-a010-2c9f052716d3',\n",
       " 'a5cdb181-0321-4bca-a7d5-3050e5f8f71f',\n",
       " '7136a5c2-b889-4d03-8abb-3e43e4505ea1',\n",
       " '194f5042-5fc4-46cd-b277-6e88c3e17492',\n",
       " 'e34ab787-6954-4749-86ed-39b14d8493e7',\n",
       " '10bc5fc4-e7ac-4342-9067-c791f87b525e',\n",
       " 'b0c4becb-9a23-4a90-b45e-da0fc28d655a',\n",
       " '3bfe46b3-534a-4bba-af58-b63f40e6916f',\n",
       " '144dff49-aeb3-429a-99d1-cbf4158cda3c',\n",
       " 'bc84e5b7-3eed-4d85-91aa-a5d492dab57c',\n",
       " 'd53f481f-011f-4ea2-9922-5bbae443d4c3',\n",
       " '1ecf76c6-0bb4-4c63-8d9c-108e2955e86c',\n",
       " 'b45d71b9-6383-4ad9-9a62-2bb2d4e673c5',\n",
       " 'c6ae68db-d286-4cf2-adce-1f8ca4009f9a',\n",
       " 'cbd761c6-f57f-437d-8b25-693c80137984',\n",
       " 'cb7d5e84-7e14-418a-8f5f-d48cb0304f8a',\n",
       " '274e78b1-bf57-47ef-ae3d-f31e3fade9a3',\n",
       " '4fccb8ca-e156-449f-b2ae-7417c70b9072',\n",
       " '7f69978a-7b98-44ed-8ce5-774a8b0c41ed',\n",
       " 'c1f462d8-49b8-43a6-833c-e78dc4069861',\n",
       " '995751bd-121e-4a60-b497-982b2ae7359a',\n",
       " '21cc712c-9ff4-49ea-856c-fa9f939bff75',\n",
       " '7da1b072-4b47-4ff0-8b25-14741b40bae1',\n",
       " '0ec42f6f-407b-464f-9098-a1233260f56e',\n",
       " '73e48404-e4d0-4c1d-acba-ef1c05138d13',\n",
       " '040dd4c7-23e4-4cb9-b9a4-2cb1da8bc7dc',\n",
       " '629e852c-b170-42e1-8c4a-6b171b18d395',\n",
       " 'fa56c608-cb99-4ed3-8ed0-10b7e0d422b6',\n",
       " '9ccde64f-4078-4293-9967-1fc838c50673',\n",
       " 'f0612b05-29b4-4ebd-86b1-cdafe2e48a92',\n",
       " 'b2c350a1-e689-4178-bca3-a4a743e0cc72',\n",
       " '0c987dea-d10b-4517-9951-765797b50021',\n",
       " 'c4fc37ed-2319-4f53-b25c-a0bc13816615',\n",
       " '61eefe29-d674-48e6-9ac4-5d3e5a069bce',\n",
       " 'b750ec53-3af8-4ab6-bed3-9ec154f69883',\n",
       " 'fb8502e0-38b6-423d-94d5-239bc7af448b',\n",
       " '0f707fce-9e16-49fa-907f-91ac567e9803',\n",
       " 'ee3434f8-26d1-404c-82fa-261841442b6b',\n",
       " 'c8b20512-a1fa-49ab-b0bd-e57086f99b48',\n",
       " 'e69c7006-b9d6-4e4d-8da1-b527016a581b',\n",
       " 'fb7686b6-7487-4147-a1b8-a5c2b8efdbb6',\n",
       " 'a353b22d-128c-4307-8908-8d9037473767',\n",
       " '266f2ac1-fe3e-46b3-bba6-739235deffa5',\n",
       " '039ce7eb-8bfe-4ca9-a1b5-0bcbbf182bd5',\n",
       " '20f94dcc-cb9a-4bef-8a89-8c432d8e1df0',\n",
       " '1033033d-0724-458c-a406-cfadd54db60a',\n",
       " 'c004fa14-9702-4e84-91f4-217e9eb66b2a',\n",
       " '9023eae8-d5ff-4361-987e-b626bc2cc2a0',\n",
       " '41f58cb4-679b-4b1c-9f77-4dc35b902b5f',\n",
       " 'a42eb2d1-8a5d-43c3-8e36-01b9e5005cd3',\n",
       " '81f841ce-c588-4e60-95b6-cd981b439e10',\n",
       " '2d3a7279-e282-406b-9cf9-0b33517c9a47',\n",
       " '078663aa-e3fc-4f67-9d5f-984ed83d9594',\n",
       " 'd75dbad9-90f7-4225-8d57-f2b2014d470b',\n",
       " '569cbbe1-30ae-457a-9983-0ba0ca0419af',\n",
       " '255c7531-1480-473f-8e47-2b61b34a0c9d']"
      ]
     },
     "execution_count": 16,
     "metadata": {},
     "output_type": "execute_result"
    }
   ],
   "source": [
    "df_amp['uuid'].to_list()"
   ]
  },
  {
   "cell_type": "code",
   "execution_count": 17,
   "metadata": {},
   "outputs": [
    {
     "data": {
      "text/plain": [
       "[('41f58cb4-679b-4b1c-9f77-4dc35b902b5f', 0.3600959777832031),\n",
       " ('629e852c-b170-42e1-8c4a-6b171b18d395', 0.3588172197341919),\n",
       " ('fa56c608-cb99-4ed3-8ed0-10b7e0d422b6', 0.35801607370376587),\n",
       " ('c8b20512-a1fa-49ab-b0bd-e57086f99b48', 0.3495158553123474),\n",
       " ('9b207942-30ca-4949-b9b1-0dd7cd01e0ce', 0.33941540122032166),\n",
       " ('3bfe46b3-534a-4bba-af58-b63f40e6916f', 0.3393407166004181),\n",
       " ('569cbbe1-30ae-457a-9983-0ba0ca0419af', 0.33932769298553467),\n",
       " ('fb8502e0-38b6-423d-94d5-239bc7af448b', 0.3350159525871277),\n",
       " ('db6db22a-528c-4868-8d9b-1abfaa0cc2ca', 0.33403170108795166),\n",
       " ('f596da28-81e9-4179-bdd5-a42036fd6952', 0.33192557096481323)]"
      ]
     },
     "execution_count": 17,
     "metadata": {},
     "output_type": "execute_result"
    }
   ],
   "source": [
    "[tuple_value for tuple_value in res if tuple_value[0] in df_amp['uuid'].to_list()]"
   ]
  },
  {
   "cell_type": "code",
   "execution_count": 24,
   "metadata": {},
   "outputs": [],
   "source": []
  },
  {
   "cell_type": "code",
   "execution_count": 25,
   "metadata": {},
   "outputs": [
    {
     "data": {
      "text/plain": [
       "[(0.3600959777832031,\n",
       "  'hedd heddphone headphone cost sugar coating massive size high weight hedd wear heavy helmet protective gear woodworking working yard weight least initially bothersome wide supple leather strap help fit tight side side however rotate head quickly headphone lag following got used whole affair listening hour took could sense slight discomfort back bottom neck given heddphone everyday listening gear would put listen bit take edit seems like leather strap aftermarket addition headphone rather stiff rope like detachable cable come see main differentiation headphone driver amt one used seeing tweeter speaker put use full range unit good idea let find measuring listening hedd heddphone measurementsas usual start important frequency response graph shown together reference target let first note going large variance left right channel strap screwed chassis headphone using four tiny screw delivered owner would get wide enough properly experiment placement gear close needed hair looked adjusting screw seem partially damaged nicked want take chance messing played around got one channel perform well one green attempt placement produced red curve cup back measurement see quite uneven exaggerated response khz peaking quite odd must kind low resonance unfortunately make audible khz actually close target forgetting trough usually cancellation caused reflection note headphone quite inefficient requiring nearly volt produce dbspl due sharply declining bass response need crank much get decent sub bass response happy roughness response see lot tiny noise like variation let look distortion graph see clue wow happened every speaker tested headphone far highest distortion low frequency shrinking low higher one hedd opposite hearing sensitive khz highest distortion seem good idea note however ratio get spiky response dip let look absolute level problem although nearly revealing previous graph reference dbspl exceeded khz khz glass half full point view though able push low frequency hard distortion consequence group delay also point messiness mid frequency although measurement revealing general exception tall spiked indicate non minimum phase response attempt fortunately also show narrow deep trough frequency response group delay graph confirms want see speaker frequency response type graph good tool deciding equalization usually put cursor area large deviation based note response whopping variation reference clearly dealing coloration impedance essentially constant rather low ohm mean high impedance tube headphone would modify frequency response headphone however doubt drive headphone due low sensitivity high impedance headphone amp would chew power headphone need produce sound best stay high performance high power low impedance headphone amplifier headphone listening testsmy initial reaction hedd sounded like speaker much room mode uneven bass response could tolerate long pulled equalization tool roon medium player went correcting low mid frequency error filter borderline make headphone sound lighter foot may like extra bass boost without found hedd sound somewhat bright deep bass boost despite lowering energy tonal balance improved substantially excellent clean bass together high focused remarkable improvement soundstage without response maybe bit better typical headphone center head response larger bubble created started ear travelled inch instrument layering separately half sphere demonstrates frequency response large role sound stage even though people think distinct phenomenon think fact lower frequency tend mono hence exaggerated without stepped spatial cue higher frequency track brings layering well recently released orchestral live album sigur odin raven magic track stendur around minute incredibly deep synthesized bass arrives barely appreciated without make presence known wonderfully hedd spectrum analyzer rme adi shoot way high distortion mid frequency could hear number time thought high clear remembered past really unreliable subjective test would need proper test know sure would say barrier enjoyment headphone equalization maybe time get smarter distortion mean conclusionsthe heddphone brings fresh new approach building headphone also present significant compromise size weight uneven low frequency response much former two equalization quite effectively lifting performance headphone nearly fail high price wow thing sing recommend hedd heddphone many compromise right someone headphone want try something different provide excellent soundstaging layering instrument overall tonality note new rule posted review thread enforced take caution making generalization keep comment specific headphone result general complaint rant result sanction dedicated thread people come learn headphone read opinion always question comment recommendation etc welcome appreciate donation using',\n",
       "  '41f58cb4-679b-4b1c-9f77-4dc35b902b5f'),\n",
       " (0.3588172197341919,\n",
       "  'drop focal elex kindly loaned cost elex naturally follows design rest focal line headphone weighs gram inside cup dimension note driver angled cup depth varies overall comfort excellent owner must similar shape face head worn pad right note measurement see preformed using standardized gras headphone measurement fixture headphone measurement require interpretation speaker test requirement subjective testing result addition comparison measurement different people performing using different con urations requires fair bit skill look matching result focus high level picture listening test performed using rme adi dac headphone output mounting headphone text fixture easy requiring little manipulation get left right match dual frequency focal elex measurementsas usual start stereo frequency response measurement sure look similar focal clear frequency response thing different better channel matching elex could measure difference much sample difference even focal utopia look similar look like target response matched back elex relative frequency response thus group delay match well noted member hypothesis messiness group delay khz may result better spatial effect need proof sisterhood clear elex distortion graph match yet one difference though time headphone listened sweep horrified hear driver crackle dbspl clear must done well given signature response green whoever think driver limitation imagined well need stop saying positive front incredibly low distortion dbspl line literally melt percentage even dbspl distortion speak khz long hit limit drive one low distortion transducer maybe trade made distortion graph absolute scale impedance variable match clear sensitivity good requiring half much drive sennheiser example focal elex listening testsas focal clear non equalized response fine nothing get excited similar equalization resulted major improvement may biased distortion measurement constantly went note clean happened across board many track quiet note especially delight elex long though got horrified crackling sound man thing scary audio gear scared watt power amplifier enough juice send speaker mar elex headphone spot hand volume control could enjoy track high volume kept worrying crackle turned volume got busy another review couple hour later realized comfortable headphone nice sound low volume conclusionslet cut chase focal elex driver limit nasty crackle would get highest remark utlra low distortion driver lends well equalization sound delight long keep volume reasonable sensible equalization sadly get closer limit application would surely hit limit shame shock driver limit clear decided upgrade rating elex recommended always question comment recommendation etc welcome',\n",
       "  '629e852c-b170-42e1-8c4a-6b171b18d395'),\n",
       " (0.35801607370376587,\n",
       "  'drop mrspeakers ether closed planar headphone company reached couple year ago see would review time testing headphone said could use low impedance headphone test headphone amp offered ether main role currently ether cost drop com remiss reviewing many loaner headphone test ala seems every day someone reach asking test ether professional stylistic look carbon fiber finish two sturdy xlr cable terminate pin xlr supplied adapter socket ether bit heavier side given large size find comfortable wear despite unique rectangular inside cup inside dimension one issue comfort hot wear due generous pad area quite warm point use summer lab loft heat rise force use iems part time year note measurement see made using standardized gras headphone measurement definition approximate variable surprised measurement even performed fixture mine differ end result protocol vary headband pressure averaging see confirm approximate accuracy measurement using equalization listening test ultimately headphone measurement le exact speaker mostly bass kilohertz keep mind read test think exact idea headphone performance likely wrong expected difficulty mating ether measurement rig due rectangular opening case fit instantly little need adjustment ether measurementslet start usual frequency response measurement interesting measure two year using without knowledge relief see well behaved response hug preference curve wild response either flat show intent get proper response albeit fully matching latest research relative response look good best news yet come form exceptionally low distortion even pushed dbspl headphone le distortion many dbspl used dan clark headphone still nice see design design know powerful tool testing headphone amplifier hear distortion almost always amplifier clipping headphone group delay show response bass impedance low flat expected best pay attention ohm load testing headphone amplifier sensitivity slightly average drop ether headphone listening test equalizationout box tonality fine exciting pulled tool add needed sub bass touch higher performance stellar spatial quality non existent showed would rate score front sub bass output post exceptional producing powerful note put smile face conclusionsthe drop ether well engineered headphone vanishingly low distortion frequency response missing sub bass complete presentation easy enough fix bit treble boosting improve spatial effect nice closed back headphone block external noise nicely produce clean faithful performance without lack excitement use may different recommend drop ether strongly equalization always question comment recommendation etc welcome',\n",
       "  'fa56c608-cb99-4ed3-8ed0-10b7e0d422b6'),\n",
       " (0.3495158553123474,\n",
       "  'sennheiser closed back headphone cost large headphone feel like fit well head come two different length cable quite thick microphonic seem strong enough hang weighs gram internal cup dimension driver angled side le deep measurement see made using standardized gras searched measurement could find online ala number close mine none using exact fixture coupler pinna see confirmed approximate accuracy measurement using equalization listening test ultimately headphone measurement le exact speaker kilohertz keep mind read test usually calibrate loudness relative frequency two channel wildly sync see later opted khz instead change filter set create net result see channel match even though sennheiser reputation good matching driver despite large cup slight change would vary level fair bit rate could get two match minute spent sennheiser measurementsthere nothing important frequency response headphone seemingly different difference leaf distinct character first glance look pretty ugly dip around giant hump followed dip thankfully important range khz excellent tracking note comparing measurement others syncing preference point different spot wind showing compliance differently also rather broad notch khz subtracting response preference curve give marked two point interest let look distortion percentage starting right interesting distortion khz range dip driver response way left seems sudden rise distortion dip bass frequency distortion level actually change thd ratio level distortion level dropped due dip artificially created spike thd overall low distortion headphone khz hearing sensitive group delay rather clean indicating something wrong around hump running theory headphone good spatial effect would messy group delay lower treble area case impedance variable get quite high want pay attention high voltage headphone amp produce typical phone output usually low department making great fit efficiency slightly average make worse situation sennheiser headphone listening testsone look frequency response think going sound strange good sub bass response mean healthy response combined good spatial quality fair amount tail wind behind like sound headphone still one forced try correct response error see much better get equalization three left filter self explanatory inverse frequency response error let put pin right shelf new filter found sound correct also detailed cleaner without filter though found emphasis high frequency resonance female vocal lisping mind bit extra zing went back listened akg thing nearly emphasizes bothered bit without equalization khz make dip effect hugely magnified perhaps distorted resorted putting shelving filter right make help tried many technique find issue give put correction shame filling hole improved spatial effect anyway see comfortable headphone wear decent amount isolation good spatial effect listening type conclusionshard imagine behind motivation produce headphone kind objective frequency response appreciated deep bass response box pulling hump seemingly reduced distortion anyway mind khz remains puzzle could solve usually get bottom story behind headphone time done declare defeat leave overall based post subjective result recommend sennheiser mind personally would pay performance rating price independent part always question comment recommendation etc welcome',\n",
       "  'c8b20512-a1fa-49ab-b0bd-e57086f99b48'),\n",
       " (0.33941540122032166,\n",
       "  'nad headphone drop shipped nad still list headphone seem available retailer instead sold ebay think new going ebay seller certified refurbished normally apparently frequently sale member paid packaging headphone look brand new must clearance stock like modern look headphone notice two cup hanging differently headband symmetrical combined rather small cup made getting consistent result two channel impossible also expand headband become rather square giving frankenstein look monitor reflective good interesting twist headphone appreciated plug diminutive cord either headphone socket cord ultra light short guess made portable use managed pull amplifier moved around fortunately replace longer cord nad viso measurementsi surprised see frequency response big shortfall upper midrange treble region testing countless speaker deficiency area tell take fun sparkle music judging bass response crapshoot due highly challenging fit gras artificial ear slightest movement would make response vary ton due headband expanding asymmetrically could get cup fit properly time low high frequency sample fit need use judgement equalization going deviation preference target curve see variation quite large sense bickering preference curve matter look headphone sucked response region peaking around khz narrow since test fixture emphasizes region think may merit bit correction distortion low bass general get thing loud interesting observe narrow peak absolute term using dbspl reference distortion comfortably threshold dbspl group delay somewhat instructive showing discontinuity frequency response variation otherwise give license equalize response see fit especially khz region sharp spiked would tell otherwise impedance le flat look headphone measurement look performance relative ohm load use testing close match sensitivity excellent meaning need little power nad headphone listening testsout box nothing offensive sound could told frequency response much exceeds target response distortion quite low second adjustment notice closed bass heavy sound let waste time apply judicious correction based frequency response filter make substantial improvement exception khz one could leave wanted wow transformation thing take equalization like duck take water beautiful bass midrange treble squeakily clean huge bonus spatial quality improve substantially since lot stereo cue khz boosted quote like get paid think headphone angled driver equalization must behind open oval sphere head side panned instrument position left right mono vocal take front top center stage sennheiser category talking flavor tell post equalization want stop listening matter fact next day listening typing review word comfort seems loosened bit today become comfortable yesterday would rate comfort take glass since headphone relies rather strong clamp pressure stay head headband stay proud even lowest extension cup personally sure could use day continue loosen sound isolation good good larger closed headphone conclusionswhat hidden jewel post equalization sale price steal relative smooth low distortion quality sound provides comfortable large cup higher end headphone may high efficiency also able drive many portable device said recommend nad without however give strong recommendation especially considering price heck would even take price equalization always question comment recommendation etc welcome',\n",
       "  '9b207942-30ca-4949-b9b1-0dd7cd01e0ce'),\n",
       " (0.3393407166004181,\n",
       "  'review detailed measurement equalization superlux semi open headphone kindly purchased member new drop shipped cost little including free shipping amazon needle say looking plastic headphone look like adjust headband trust tried first little pad top supposed self adjusting mechanism kind work put pressure two small spot head cable terminates male connector unusual cup larger side help lot comfort given stiff spring action would give comfort wear minute superlux measurementshere frequency response see good adherence target curve khz good trough two peak also usual bass drop subtracting frequency response target get kind deviation see huge variation span kilohertz noted graph first peak interestingly enough correlate precisely distortion frequency good news need take peak anyway also reducing distortion bonus unfortunately helped high distortion bass boosting may compromise enough sub bass response distortion later equalization section log display distortion showing already know group delay informative know try fix large dip high frequency result two wave cancelling change resulting cancellation show large group delay indicated spike marked impedance frequency graph constant worry amplifier impedance high let know like kind non zoomed display better think obscuring info interest graph confusing see highly zoomed first glance sensitivity good superlux headphone listening test equalizationquick listen showed somewhat exaggerated high grittiness added good measure time bit dullness know oxymoron context overall pleasant experience let try fix issue wow transformation blindfolded put ear would swear listening expensive headphone large driver provide good bit spatial information creating soundstage dangles ear back mono content behind forehead added effect combined good tonality much deeper bass provided enjoyable experience love collaboration nick cave nicholas noorenbergh track example let indicate though sound get bit boomy high persisted bit bright time especially female vocal high frequency shelving filter would fix latter wanted stick philosophy piling many filter indicated already provides excellent performance lied bit something bugging still played track sever ego jewel kept hearing voice left center first ignored realized happening track looked back frequency response realized one channel lower level across board pulled roon level control boosted weak channel using pink noise nicely anchored mono aspect track center removing hanging nail effect channel balanced conclusionswe yet another example box objective subjective performance disappointing could try forgive given cost equalization headphone outperform speaker costing thousand dollar tonality fit comfort good enough spatial effect satisfying wonderful experience bit software signal processing predict summary good recommended equalization bargain measurement data included time csv file let know like better',\n",
       "  '3bfe46b3-534a-4bba-af58-b63f40e6916f'),\n",
       " (0.33932769298553467,\n",
       "  'review detailed review abyss phi planar magnetic headphone come three different con urations lite version costing one complete con uration costing extra going replacement cable must say person headphone look better see someone wearing head may remind people frankenstein unlike many headphone premium cable serf two purpose first function provide sound driver second one tow rope car get stuck mud snow mean good grief thing heavy long constantly uring route tug headphone trip hazard sadly premium cable sold weight size guess cable test compare headphone naturally quite heavy gram wear almost comfortably real spring action adjust width headphone le hang next ear force lengthen shorten top headband barely long enough fixture company unusually recommends try wearing gap ear avoided measured headphone tightest fit could lest riot street due bass response cup deep deep average risk ear hitting driver oval height width strong magnet hold cup headphone pull rotate another angle left owner sent note unit forth generation one measurement see made using standardized gras searched measurement could find online ala number close mine none using exact fixture coupler pinna see confirmed approximate accuracy measurement using equalization listening test ultimately headphone measurement le exact speaker specially bass kilohertz keep mind read test abyss phi measurementsas usual start frequency response hmmm hard imagine target curve going clearly anomaly imagine intentional misguided sure main good news plenty bass response energy need mid range pull lower distortion well relative form company talk lot imaging spatial effect headphone seeing shortfall critical midrange left lot money table next come scary graph abyss diana headphone tested ton distortion company would well pay attention work find remedy said listening test modest level produced clean sound prompting back measurement realizing distortion dbspl actually quite low considering much sub bass energy already need boost much see get cranking volume clearly cause much distortion though binomial distribution bass treble usually enemy bass distortion listening test distortion level group delay show common messiness mid frequency going hypothesis indication good spatial effect show interference multiple source reflection messiness lower range though welcome although audible effect unknown impedance dead flat low expect planar magnetic driver sensitivity second worst measured roughly need four time voltage drive loudness sennheiser example abyss phi listening test equalizationheadphone measurement approximate best way verify correctness modify headphone response way instruct see effect positive though listened find sound exciting terrible mind clearly colored came parametric note response curve odd shaped make matching parametric curve hard eyeballed fortunately result fantastic tonality improved substantially clarity improved likely due reduction distortion wonderful spatial effect really nice halo behind head seemed constantly delight way would place instrument deep bass substantial modest boost clean clean clean listened hour want stop check distortion clipping turned volume instrumental female vocal high got bit distorted suddenly greeted oddest buzzing sound literally went paying music playing noise fortunately pretty loud expect everyday problem music bass heavy produce ton start make ticking sound bass peak turn even get louder still beyond normal use onset mild experience match distortion measurement saw problem multiple frequency bass driver simply designed pushed hard speaking pushing used topping highest gain setting using balanced trouble driving headphone highest level per rme adi dac normally use balanced headphone routed line output listening test conclusionstechnically abyss fair bit objective fault frequency response varies rhyme reason distorts higher volume former correctable using equalization latter requires listening normal level even putting aside cable upgrade one expensive headphone would buy one would keep without would apply enjoy sound becomes capable entertainer without recommend abyss phi equalization becomes delight recommend ignoring price always question comment recommendation etc welcome appreciate donation using',\n",
       "  '569cbbe1-30ae-457a-9983-0ba0ca0419af'),\n",
       " (0.3350159525871277,\n",
       "  'zmf atticus headphone cost member sent three pair pad look neither know stock one looking picture online look similar oem one woodworker much admire ured wood used cup look like zebra wood company reference different wood specie different page sure exactly note fair amount sound escape vent assume closed headphone classical sense headphone big naturally heavy side atticus clocking gram large cup comfortable though find tiring hour wore cup inside dimension note measurement see made using standardized gras headphone measurement definition approximate variable surprised measurement even performed fixture mine differ end result protocol vary headband pressure averaging see confirmed approximate accuracy measurement using equalization listening test ultimately headphone measurement le exact speaker mostly bass kilohertz keep mind read test think exact idea headphone performance likely wrong fitting headphone fixture challenge fair bit differential left right channel overall variability asymmetrical cup pressure le thin side may responsible pressure loss played fair bit could null difference overall response shape pretty much though confidence directionality measurement zmf atticus measurementsas usual start frequency response company advertises warmer sound clearly seems refer boosting upper bass frequency also talk bit zing high must thing push peak around khz say anything depressed region khz experience make headphone sound clusterphobic closed exceedingly common though see done subtracting response preference curve give easier graph use equalizer design noted response beyond large deviation also many sudden kink change usually indicates headphone changing pure pistonic response see evidence distortion graph bass distortion quite high let remember excess bass take worry happens farther response especially khz flaw strong effect show many place including group delay even electrical phase shame diagnosed fixed sensitivity slightly average impedance quite high ohm need headphone amp driver produce good bit voltage want high volume atticus zmf atticus listening test equalizationsthe stock performance atticus exciting track sounded dull closed decided fix mid frequency first making progress stop deal low frequency boominess literally got remarkable transformation throw large negative gain region nothing like power testing see negative effect artificial boost without seems like small problem take experience relief get realize much issue sub bass region present quickly dialed bit green filter band need put bass response tonality took dip spatial effect good combined excellent power handling sound enjoyable used headphone listening hour occasionally mid high frequency note would sound quite right could due distortion faultiness hoc subjective evaluation perfect transformation darn near without would near headphone becomes much better conclusionszmf executes look feel atticus well one appreciates getting something amount money spending ala company statement get neutral response key excellent transformation fidelity across large amount content without vocal muffled sound quite closed nature like bass like clean deep boosting thing sake boosting fortunately parametric equalization wonder tonality atticus substantially upgrade sound tonality spatial quality distortion partially dealt lowering bass remain concerned mid high frequency distortion especially khz critical part audible band overall recommend zmf atticus without get marginal recommendation always question comment recommendation etc welcome appreciate donation using',\n",
       "  'fb8502e0-38b6-423d-94d5-239bc7af448b'),\n",
       " (0.33403170108795166,\n",
       "  'review listening test measurement truthear crinacle zero iem review sent crinacle consultant project cost like bit bling much cord right length super flexible little microphonics get two set silicone pad three different size suite fine wear largest one stay nicely put claim fame iem complies harman target let see case edit included tip one used measurement listening test truthear crinnacle zero iem measurementslet start frequency response measurement must say prepared tight fit target hair droop bit deviation response hug target wet towel nice render difference frequency response kind useless distortion good enough lower level get bit much maximum spl group delay revealing iems case impedance show evidence tuning bass frequency low impedance mean many amp source drive low sensitive low side well iem truthear crinnacle zero iem listening testsas usual start female vocal first reference track excellent warmth courtesy proper low frequency response continued track track tonality delightful sound right also enjoyable sound get like best speaker best room room mode course tactile feedback deep bass sound get picture cranked volume kind get loud thought bass started gradually get distorted practical problem going want listen unsafe volume sitting typing review listening marveling nice every track sound conclusionswhat earth reading rest review buy one care listen iems normally want iem know correct tonality listen transducer headphone speaker think tuning fork musician us iem need arsenal use iems summer month treat peanut pocket science work kudos crinacle advocating execution indebted contribution happy strongly recommend truthear crinnacle zero iem brings incredible harmony technical excellence superbly low purchase price always question comment recommendation etc welcome',\n",
       "  'db6db22a-528c-4868-8d9b-1abfaa0cc2ca'),\n",
       " (0.33192557096481323,\n",
       "  'focal celestee closed back headphone sent testing cost celestee luxury feel fit price fond spring action though headband spring pressure extremely progressive putting huge try expand bit expansion head fit rather tight positive side provided excellent sound isolation two plug terminate headphone cup stiff enough pull supplied cord likewise terminates plug quite short probably foot seems designed portable use definitely want longer desktop use note measurement see preformed using standardized gras headphone measurement fixture headphone measurement require interpretation speaker test requirement subjective testing result addition comparison measurement different people performing using different con urations requires fair bit skill look matching result focus high level picture listening test performed using rme adi dac headphone output mounting headphone test fixture somewhat challenging try match level hard low frequency see bit nothing mounting focal celestee measurementsas usual start stereo frequency response measurement pleased tight matching low frequency response target curve like droop green channel tried compensate moving headphone around matter large discrepancy remained looking measurement field also show mild version kink surprising see mismatching company like focal extensive driver manufacturing capability response le good get past khz khz valley large peak around khz likely audible relative frequency response show dip clearly distortion low absolute level note bass distortion look worse since good response really good news distortion front impedance somewhat variable given low value current hungry although term barely applies given high efficiency celestee group delay show well behaved response le ideal curve would exponentially roll dip around kink one channel maybe related focal celestee headphone listening testswithout equalization sound non offensive boring high muted soundstage mostly whacked middle head take track lot channel separation push anything close ear far separation helped thing lot addition compensate large dip helped lot open sound give much needed zing pulling two peak helped bit upper bass boominiess something strange though none sub bass heavy soundtrack played using celestee getting ready write review must due major shortfall one channel ability one channel using maybe fix sound fine still nothing get excited comparing dan clark aeon closed latter somewhat open sounding akg blew celestee water deep thundering sub bass excellent separation instrumentation sense detail going give celestee one grade higher comparison also found comfortable wear due much lighter weight conclusionsthis tough review write originally supposed come yesterday waited bit son test well thought based measurement sound would pleasing neither thought much tonality without rescue still nothing rave behind least could time problem headphone obvious conclusion without reservation given high cost recommend focal celestee spend kind money want headphone put smile face celestee simply really know target tonality headphone always question comment recommendation etc welcome',\n",
       "  'f596da28-81e9-4179-bdd5-a42036fd6952')]"
      ]
     },
     "execution_count": 25,
     "metadata": {},
     "output_type": "execute_result"
    }
   ],
   "source": [
    "result_list"
   ]
  },
  {
   "cell_type": "code",
   "execution_count": 20,
   "metadata": {},
   "outputs": [
    {
     "data": {
      "text/html": [
       "<div>\n",
       "<style scoped>\n",
       "    .dataframe tbody tr th:only-of-type {\n",
       "        vertical-align: middle;\n",
       "    }\n",
       "\n",
       "    .dataframe tbody tr th {\n",
       "        vertical-align: top;\n",
       "    }\n",
       "\n",
       "    .dataframe thead th {\n",
       "        text-align: right;\n",
       "    }\n",
       "</style>\n",
       "<table border=\"1\" class=\"dataframe\">\n",
       "  <thead>\n",
       "    <tr style=\"text-align: right;\">\n",
       "      <th></th>\n",
       "      <th>Unnamed: 0</th>\n",
       "      <th>Price</th>\n",
       "      <th>uuid</th>\n",
       "      <th>Headphone Type</th>\n",
       "      <th>Brand</th>\n",
       "      <th>Model</th>\n",
       "      <th>SensitivityAscending</th>\n",
       "      <th>Review Date</th>\n",
       "      <th>review</th>\n",
       "      <th>link</th>\n",
       "      <th>impedance</th>\n",
       "    </tr>\n",
       "  </thead>\n",
       "  <tbody>\n",
       "    <tr>\n",
       "      <th>0</th>\n",
       "      <td>0</td>\n",
       "      <td>450.0</td>\n",
       "      <td>31b2f528-13c3-4015-a800-95d2c3190dd9</td>\n",
       "      <td>Over-Ear</td>\n",
       "      <td>HiFiMAN</td>\n",
       "      <td>HE-400i V2016</td>\n",
       "      <td>NaN</td>\n",
       "      <td>12/18/20</td>\n",
       "      <td>hifiman planar magnetic headphone purchased ba...</td>\n",
       "      <td>https://www.audiosciencereview.com/forum/index...</td>\n",
       "      <td>47.0</td>\n",
       "    </tr>\n",
       "    <tr>\n",
       "      <th>1</th>\n",
       "      <td>1</td>\n",
       "      <td>1490.0</td>\n",
       "      <td>6c640678-9ecd-4fbc-a9bb-72a4ab9eb086</td>\n",
       "      <td>Over-Ear</td>\n",
       "      <td>Focal</td>\n",
       "      <td>Clear</td>\n",
       "      <td>NaN</td>\n",
       "      <td>12/19/20</td>\n",
       "      <td>focal clear cost amazon including free shippin...</td>\n",
       "      <td>https://www.audiosciencereview.com/forum/index...</td>\n",
       "      <td>60.0</td>\n",
       "    </tr>\n",
       "    <tr>\n",
       "      <th>2</th>\n",
       "      <td>2</td>\n",
       "      <td>170.0</td>\n",
       "      <td>628aedde-68d5-44ed-88fb-8ccbdb1d8f45</td>\n",
       "      <td>Over Ear</td>\n",
       "      <td>HiFiMAN</td>\n",
       "      <td>HE400i 2020 Revision</td>\n",
       "      <td>NaN</td>\n",
       "      <td>8/16/21</td>\n",
       "      <td>version popular hifiman open back planar magne...</td>\n",
       "      <td>https://www.audiosciencereview.com/forum/index...</td>\n",
       "      <td>46.0</td>\n",
       "    </tr>\n",
       "    <tr>\n",
       "      <th>3</th>\n",
       "      <td>3</td>\n",
       "      <td>NaN</td>\n",
       "      <td>76fdf09e-586f-4634-b9c8-e1cda88fae8c</td>\n",
       "      <td>Over Ear</td>\n",
       "      <td>Grado</td>\n",
       "      <td>Custom Grado Clone With Elleven Acoustica R1 D...</td>\n",
       "      <td>17.0</td>\n",
       "      <td>7/18/21</td>\n",
       "      <td>custom grado headphone elleven acoustica drive...</td>\n",
       "      <td>https://www.audiosciencereview.com/forum/index...</td>\n",
       "      <td>34.0</td>\n",
       "    </tr>\n",
       "    <tr>\n",
       "      <th>4</th>\n",
       "      <td>4</td>\n",
       "      <td>20.0</td>\n",
       "      <td>8f0d61c9-f3fa-4482-bec8-7eb51fe39389</td>\n",
       "      <td>In-Ear</td>\n",
       "      <td>Panasonic</td>\n",
       "      <td>RP-TCM125</td>\n",
       "      <td>35.0</td>\n",
       "      <td>4/24/21</td>\n",
       "      <td>panasonic tcm ear monitor purchased amazon cos...</td>\n",
       "      <td>https://www.audiosciencereview.com/forum/index...</td>\n",
       "      <td>16.0</td>\n",
       "    </tr>\n",
       "    <tr>\n",
       "      <th>...</th>\n",
       "      <td>...</td>\n",
       "      <td>...</td>\n",
       "      <td>...</td>\n",
       "      <td>...</td>\n",
       "      <td>...</td>\n",
       "      <td>...</td>\n",
       "      <td>...</td>\n",
       "      <td>...</td>\n",
       "      <td>...</td>\n",
       "      <td>...</td>\n",
       "      <td>...</td>\n",
       "    </tr>\n",
       "    <tr>\n",
       "      <th>80</th>\n",
       "      <td>80</td>\n",
       "      <td>500.0</td>\n",
       "      <td>2d3a7279-e282-406b-9cf9-0b33517c9a47</td>\n",
       "      <td>Over-Ear</td>\n",
       "      <td>Dan Clark Audio (MrSpeakers)</td>\n",
       "      <td>AEON RT</td>\n",
       "      <td>677.0</td>\n",
       "      <td>1/14/21</td>\n",
       "      <td>dan clark closed back headphone kindly sent co...</td>\n",
       "      <td>https://www.audiosciencereview.com/forum/index...</td>\n",
       "      <td>13.0</td>\n",
       "    </tr>\n",
       "    <tr>\n",
       "      <th>81</th>\n",
       "      <td>81</td>\n",
       "      <td>160.0</td>\n",
       "      <td>078663aa-e3fc-4f67-9d5f-984ed83d9594</td>\n",
       "      <td>Over-Ear</td>\n",
       "      <td>Beyerdynamic</td>\n",
       "      <td>DT990 Pro (250 ?)</td>\n",
       "      <td>704.0</td>\n",
       "      <td>1/31/21</td>\n",
       "      <td>beyerdynamic open back headphone member kind e...</td>\n",
       "      <td>https://www.audiosciencereview.com/forum/index...</td>\n",
       "      <td>50.0</td>\n",
       "    </tr>\n",
       "    <tr>\n",
       "      <th>82</th>\n",
       "      <td>82</td>\n",
       "      <td>750.0</td>\n",
       "      <td>d75dbad9-90f7-4225-8d57-f2b2014d470b</td>\n",
       "      <td>Over-Ear</td>\n",
       "      <td>NaN</td>\n",
       "      <td>Nan-6</td>\n",
       "      <td>950.0</td>\n",
       "      <td>5/31/22</td>\n",
       "      <td>nan planar magnetic headphone cost cheesy logo...</td>\n",
       "      <td>https://www.audiosciencereview.com/forum/index...</td>\n",
       "      <td>41.0</td>\n",
       "    </tr>\n",
       "    <tr>\n",
       "      <th>83</th>\n",
       "      <td>83</td>\n",
       "      <td>4995.0</td>\n",
       "      <td>569cbbe1-30ae-457a-9983-0ba0ca0419af</td>\n",
       "      <td>Over-Ear</td>\n",
       "      <td>ABYSS Headphones</td>\n",
       "      <td>AB-1266 Phi TC</td>\n",
       "      <td>1030.0</td>\n",
       "      <td>5/15/21</td>\n",
       "      <td>review detailed review abyss phi planar magnet...</td>\n",
       "      <td>https://www.audiosciencereview.com/forum/index...</td>\n",
       "      <td>49.0</td>\n",
       "    </tr>\n",
       "    <tr>\n",
       "      <th>84</th>\n",
       "      <td>84</td>\n",
       "      <td>1299.0</td>\n",
       "      <td>255c7531-1480-473f-8e47-2b61b34a0c9d</td>\n",
       "      <td>Over-Ear</td>\n",
       "      <td>HiFiMAN</td>\n",
       "      <td>HE-6</td>\n",
       "      <td>1250.0</td>\n",
       "      <td>3/22/21</td>\n",
       "      <td>hifiman open back planar magnetic headphone ki...</td>\n",
       "      <td>https://www.audiosciencereview.com/forum/index...</td>\n",
       "      <td>0.0</td>\n",
       "    </tr>\n",
       "  </tbody>\n",
       "</table>\n",
       "<p>85 rows × 11 columns</p>\n",
       "</div>"
      ],
      "text/plain": [
       "    Unnamed: 0  ...  impedance\n",
       "0            0  ...       47.0\n",
       "1            1  ...       60.0\n",
       "2            2  ...       46.0\n",
       "3            3  ...       34.0\n",
       "4            4  ...       16.0\n",
       "..         ...  ...        ...\n",
       "80          80  ...       13.0\n",
       "81          81  ...       50.0\n",
       "82          82  ...       41.0\n",
       "83          83  ...       49.0\n",
       "84          84  ...        0.0\n",
       "\n",
       "[85 rows x 11 columns]"
      ]
     },
     "execution_count": 20,
     "metadata": {},
     "output_type": "execute_result"
    }
   ],
   "source": [
    "df_amp"
   ]
  },
  {
   "cell_type": "code",
   "execution_count": 21,
   "metadata": {},
   "outputs": [
    {
     "ename": "NameError",
     "evalue": "name 'modified_tuple' is not defined",
     "output_type": "error",
     "traceback": [
      "\u001b[0;31m---------------------------------------------------------------------------\u001b[0m",
      "\u001b[0;31mNameError\u001b[0m                                 Traceback (most recent call last)",
      "\u001b[1;32m/home/petr/Desktop/txtai_rest/recomendations/scripts_test.ipynb Cell 26\u001b[0m line \u001b[0;36m1\n\u001b[0;32m----> <a href='vscode-notebook-cell:/home/petr/Desktop/txtai_rest/recomendations/scripts_test.ipynb#X32sZmlsZQ%3D%3D?line=0'>1</a>\u001b[0m modified_tuple\n",
      "\u001b[0;31mNameError\u001b[0m: name 'modified_tuple' is not defined"
     ]
    }
   ],
   "source": [
    "\n",
    "modified_tuple"
   ]
  },
  {
   "cell_type": "code",
   "execution_count": null,
   "metadata": {},
   "outputs": [],
   "source": [
    "embeddings.load(f\"/..{Path.cwd()}/parse/amp_clnd\")\n"
   ]
  }
 ],
 "metadata": {
  "kernelspec": {
   "display_name": "Python 3",
   "language": "python",
   "name": "python3"
  },
  "language_info": {
   "codemirror_mode": {
    "name": "ipython",
    "version": 3
   },
   "file_extension": ".py",
   "mimetype": "text/x-python",
   "name": "python",
   "nbconvert_exporter": "python",
   "pygments_lexer": "ipython3",
   "version": "3.10.12"
  }
 },
 "nbformat": 4,
 "nbformat_minor": 2
}
